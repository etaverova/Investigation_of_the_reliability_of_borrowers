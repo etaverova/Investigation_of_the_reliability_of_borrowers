{
 "cells": [
  {
   "cell_type": "markdown",
   "metadata": {},
   "source": [
    "# Исследование объявлений о продаже квартир\n",
    "\n",
    "В вашем распоряжении данные сервиса Яндекс.Недвижимость — архив объявлений о продаже квартир в Санкт-Петербурге и соседних населённых пунктов за несколько лет. Нужно научиться определять рыночную стоимость объектов недвижимости. Ваша задача — установить параметры. Это позволит построить автоматизированную систему: она отследит аномалии и мошенническую деятельность. \n",
    "\n",
    "По каждой квартире на продажу доступны два вида данных. Первые вписаны пользователем, вторые — получены автоматически на основе картографических данных. Например, расстояние до центра, аэропорта, ближайшего парка и водоёма. "
   ]
  },
  {
   "cell_type": "markdown",
   "metadata": {},
   "source": [
    "### Откройте файл с данными и изучите общую информацию. "
   ]
  },
  {
   "cell_type": "code",
   "execution_count": 1,
   "metadata": {},
   "outputs": [],
   "source": [
    "import pandas as pd\n",
    "import numpy as np\n",
    "import matplotlib.pyplot as plt\n",
    "\n",
    "pd.set_option('display.max_columns', None)"
   ]
  },
  {
   "cell_type": "code",
   "execution_count": 2,
   "metadata": {},
   "outputs": [
    {
     "data": {
      "text/html": [
       "<div>\n",
       "<style scoped>\n",
       "    .dataframe tbody tr th:only-of-type {\n",
       "        vertical-align: middle;\n",
       "    }\n",
       "\n",
       "    .dataframe tbody tr th {\n",
       "        vertical-align: top;\n",
       "    }\n",
       "\n",
       "    .dataframe thead th {\n",
       "        text-align: right;\n",
       "    }\n",
       "</style>\n",
       "<table border=\"1\" class=\"dataframe\">\n",
       "  <thead>\n",
       "    <tr style=\"text-align: right;\">\n",
       "      <th></th>\n",
       "      <th>total_images</th>\n",
       "      <th>last_price</th>\n",
       "      <th>total_area</th>\n",
       "      <th>first_day_exposition</th>\n",
       "      <th>rooms</th>\n",
       "      <th>ceiling_height</th>\n",
       "      <th>floors_total</th>\n",
       "      <th>living_area</th>\n",
       "      <th>floor</th>\n",
       "      <th>is_apartment</th>\n",
       "      <th>studio</th>\n",
       "      <th>open_plan</th>\n",
       "      <th>kitchen_area</th>\n",
       "      <th>balcony</th>\n",
       "      <th>locality_name</th>\n",
       "      <th>airports_nearest</th>\n",
       "      <th>cityCenters_nearest</th>\n",
       "      <th>parks_around3000</th>\n",
       "      <th>parks_nearest</th>\n",
       "      <th>ponds_around3000</th>\n",
       "      <th>ponds_nearest</th>\n",
       "      <th>days_exposition</th>\n",
       "    </tr>\n",
       "  </thead>\n",
       "  <tbody>\n",
       "    <tr>\n",
       "      <th>0</th>\n",
       "      <td>20</td>\n",
       "      <td>13000000.0</td>\n",
       "      <td>108.0</td>\n",
       "      <td>2019-03-07T00:00:00</td>\n",
       "      <td>3</td>\n",
       "      <td>2.70</td>\n",
       "      <td>16.0</td>\n",
       "      <td>51.0</td>\n",
       "      <td>8</td>\n",
       "      <td>NaN</td>\n",
       "      <td>False</td>\n",
       "      <td>False</td>\n",
       "      <td>25.0</td>\n",
       "      <td>NaN</td>\n",
       "      <td>Санкт-Петербург</td>\n",
       "      <td>18863.0</td>\n",
       "      <td>16028.0</td>\n",
       "      <td>1.0</td>\n",
       "      <td>482.0</td>\n",
       "      <td>2.0</td>\n",
       "      <td>755.0</td>\n",
       "      <td>NaN</td>\n",
       "    </tr>\n",
       "    <tr>\n",
       "      <th>1</th>\n",
       "      <td>7</td>\n",
       "      <td>3350000.0</td>\n",
       "      <td>40.4</td>\n",
       "      <td>2018-12-04T00:00:00</td>\n",
       "      <td>1</td>\n",
       "      <td>NaN</td>\n",
       "      <td>11.0</td>\n",
       "      <td>18.6</td>\n",
       "      <td>1</td>\n",
       "      <td>NaN</td>\n",
       "      <td>False</td>\n",
       "      <td>False</td>\n",
       "      <td>11.0</td>\n",
       "      <td>2.0</td>\n",
       "      <td>посёлок Шушары</td>\n",
       "      <td>12817.0</td>\n",
       "      <td>18603.0</td>\n",
       "      <td>0.0</td>\n",
       "      <td>NaN</td>\n",
       "      <td>0.0</td>\n",
       "      <td>NaN</td>\n",
       "      <td>81.0</td>\n",
       "    </tr>\n",
       "    <tr>\n",
       "      <th>2</th>\n",
       "      <td>10</td>\n",
       "      <td>5196000.0</td>\n",
       "      <td>56.0</td>\n",
       "      <td>2015-08-20T00:00:00</td>\n",
       "      <td>2</td>\n",
       "      <td>NaN</td>\n",
       "      <td>5.0</td>\n",
       "      <td>34.3</td>\n",
       "      <td>4</td>\n",
       "      <td>NaN</td>\n",
       "      <td>False</td>\n",
       "      <td>False</td>\n",
       "      <td>8.3</td>\n",
       "      <td>0.0</td>\n",
       "      <td>Санкт-Петербург</td>\n",
       "      <td>21741.0</td>\n",
       "      <td>13933.0</td>\n",
       "      <td>1.0</td>\n",
       "      <td>90.0</td>\n",
       "      <td>2.0</td>\n",
       "      <td>574.0</td>\n",
       "      <td>558.0</td>\n",
       "    </tr>\n",
       "    <tr>\n",
       "      <th>3</th>\n",
       "      <td>0</td>\n",
       "      <td>64900000.0</td>\n",
       "      <td>159.0</td>\n",
       "      <td>2015-07-24T00:00:00</td>\n",
       "      <td>3</td>\n",
       "      <td>NaN</td>\n",
       "      <td>14.0</td>\n",
       "      <td>NaN</td>\n",
       "      <td>9</td>\n",
       "      <td>NaN</td>\n",
       "      <td>False</td>\n",
       "      <td>False</td>\n",
       "      <td>NaN</td>\n",
       "      <td>0.0</td>\n",
       "      <td>Санкт-Петербург</td>\n",
       "      <td>28098.0</td>\n",
       "      <td>6800.0</td>\n",
       "      <td>2.0</td>\n",
       "      <td>84.0</td>\n",
       "      <td>3.0</td>\n",
       "      <td>234.0</td>\n",
       "      <td>424.0</td>\n",
       "    </tr>\n",
       "    <tr>\n",
       "      <th>4</th>\n",
       "      <td>2</td>\n",
       "      <td>10000000.0</td>\n",
       "      <td>100.0</td>\n",
       "      <td>2018-06-19T00:00:00</td>\n",
       "      <td>2</td>\n",
       "      <td>3.03</td>\n",
       "      <td>14.0</td>\n",
       "      <td>32.0</td>\n",
       "      <td>13</td>\n",
       "      <td>NaN</td>\n",
       "      <td>False</td>\n",
       "      <td>False</td>\n",
       "      <td>41.0</td>\n",
       "      <td>NaN</td>\n",
       "      <td>Санкт-Петербург</td>\n",
       "      <td>31856.0</td>\n",
       "      <td>8098.0</td>\n",
       "      <td>2.0</td>\n",
       "      <td>112.0</td>\n",
       "      <td>1.0</td>\n",
       "      <td>48.0</td>\n",
       "      <td>121.0</td>\n",
       "    </tr>\n",
       "  </tbody>\n",
       "</table>\n",
       "</div>"
      ],
      "text/plain": [
       "   total_images  last_price  total_area first_day_exposition  rooms  \\\n",
       "0            20  13000000.0       108.0  2019-03-07T00:00:00      3   \n",
       "1             7   3350000.0        40.4  2018-12-04T00:00:00      1   \n",
       "2            10   5196000.0        56.0  2015-08-20T00:00:00      2   \n",
       "3             0  64900000.0       159.0  2015-07-24T00:00:00      3   \n",
       "4             2  10000000.0       100.0  2018-06-19T00:00:00      2   \n",
       "\n",
       "   ceiling_height  floors_total  living_area  floor is_apartment  studio  \\\n",
       "0            2.70          16.0         51.0      8          NaN   False   \n",
       "1             NaN          11.0         18.6      1          NaN   False   \n",
       "2             NaN           5.0         34.3      4          NaN   False   \n",
       "3             NaN          14.0          NaN      9          NaN   False   \n",
       "4            3.03          14.0         32.0     13          NaN   False   \n",
       "\n",
       "   open_plan  kitchen_area  balcony    locality_name  airports_nearest  \\\n",
       "0      False          25.0      NaN  Санкт-Петербург           18863.0   \n",
       "1      False          11.0      2.0   посёлок Шушары           12817.0   \n",
       "2      False           8.3      0.0  Санкт-Петербург           21741.0   \n",
       "3      False           NaN      0.0  Санкт-Петербург           28098.0   \n",
       "4      False          41.0      NaN  Санкт-Петербург           31856.0   \n",
       "\n",
       "   cityCenters_nearest  parks_around3000  parks_nearest  ponds_around3000  \\\n",
       "0              16028.0               1.0          482.0               2.0   \n",
       "1              18603.0               0.0            NaN               0.0   \n",
       "2              13933.0               1.0           90.0               2.0   \n",
       "3               6800.0               2.0           84.0               3.0   \n",
       "4               8098.0               2.0          112.0               1.0   \n",
       "\n",
       "   ponds_nearest  days_exposition  \n",
       "0          755.0              NaN  \n",
       "1            NaN             81.0  \n",
       "2          574.0            558.0  \n",
       "3          234.0            424.0  \n",
       "4           48.0            121.0  "
      ]
     },
     "execution_count": 2,
     "metadata": {},
     "output_type": "execute_result"
    }
   ],
   "source": [
    "data = pd.read_csv('/datasets/real_estate_data.csv', sep='\\t')\n",
    "\n",
    "data.head(5)"
   ]
  },
  {
   "cell_type": "code",
   "execution_count": 2,
   "metadata": {},
   "outputs": [
    {
     "name": "stdout",
     "output_type": "stream",
     "text": [
      "<class 'pandas.core.frame.DataFrame'>\n",
      "RangeIndex: 23699 entries, 0 to 23698\n",
      "Data columns (total 22 columns):\n",
      " #   Column                Non-Null Count  Dtype  \n",
      "---  ------                --------------  -----  \n",
      " 0   total_images          23699 non-null  int64  \n",
      " 1   last_price            23699 non-null  float64\n",
      " 2   total_area            23699 non-null  float64\n",
      " 3   first_day_exposition  23699 non-null  object \n",
      " 4   rooms                 23699 non-null  int64  \n",
      " 5   ceiling_height        14504 non-null  float64\n",
      " 6   floors_total          23613 non-null  float64\n",
      " 7   living_area           21796 non-null  float64\n",
      " 8   floor                 23699 non-null  int64  \n",
      " 9   is_apartment          2775 non-null   object \n",
      " 10  studio                23699 non-null  bool   \n",
      " 11  open_plan             23699 non-null  bool   \n",
      " 12  kitchen_area          21421 non-null  float64\n",
      " 13  balcony               12180 non-null  float64\n",
      " 14  locality_name         23650 non-null  object \n",
      " 15  airports_nearest      18157 non-null  float64\n",
      " 16  cityCenters_nearest   18180 non-null  float64\n",
      " 17  parks_around3000      18181 non-null  float64\n",
      " 18  parks_nearest         8079 non-null   float64\n",
      " 19  ponds_around3000      18181 non-null  float64\n",
      " 20  ponds_nearest         9110 non-null   float64\n",
      " 21  days_exposition       20518 non-null  float64\n",
      "dtypes: bool(2), float64(14), int64(3), object(3)\n",
      "memory usage: 3.7+ MB\n"
     ]
    }
   ],
   "source": [
    "data.info()"
   ]
  },
  {
   "cell_type": "code",
   "execution_count": 3,
   "metadata": {},
   "outputs": [
    {
     "data": {
      "image/png": "[encoded data removed]",
      "text/plain": [
       "<Figure size 1080x1800 with 20 Axes>"
      ]
     },
     "metadata": {
      "needs_background": "light"
     },
     "output_type": "display_data"
    }
   ],
   "source": [
    "data.hist(figsize=(15, 25));"
   ]
  },
  {
   "cell_type": "markdown",
   "metadata": {},
   "source": [
    "Таким образом, мы получили основную информацию о датасете."
   ]
  },
  {
   "cell_type": "markdown",
   "metadata": {},
   "source": [
    "### Предобработка данных"
   ]
  },
  {
   "cell_type": "code",
   "execution_count": 4,
   "metadata": {},
   "outputs": [],
   "source": [
    "data.rename(columns={'cityCenters_nearest' : 'city_centers_nearest'}, inplace=True)"
   ]
  },
  {
   "cell_type": "code",
   "execution_count": 5,
   "metadata": {},
   "outputs": [
    {
     "data": {
      "text/plain": [
       "total_images                0\n",
       "last_price                  0\n",
       "total_area                  0\n",
       "first_day_exposition        0\n",
       "rooms                       0\n",
       "ceiling_height           9195\n",
       "floors_total               86\n",
       "living_area              1903\n",
       "floor                       0\n",
       "is_apartment            20924\n",
       "studio                      0\n",
       "open_plan                   0\n",
       "kitchen_area             2278\n",
       "balcony                 11519\n",
       "locality_name              49\n",
       "airports_nearest         5542\n",
       "city_centers_nearest     5519\n",
       "parks_around3000         5518\n",
       "parks_nearest           15620\n",
       "ponds_around3000         5518\n",
       "ponds_nearest           14589\n",
       "days_exposition          3181\n",
       "dtype: int64"
      ]
     },
     "execution_count": 5,
     "metadata": {},
     "output_type": "execute_result"
    }
   ],
   "source": [
    "data.isna().sum()"
   ]
  },
  {
   "cell_type": "markdown",
   "metadata": {},
   "source": [
    "**Данные, которые можем подкорректировать:**\n",
    "\n",
    "* is_apartment - апартаменты (булев тип) (скорее всего это не аппартаменты и можно присвоить пропускам значение False)\n",
    "* balcony - число балконов (скорее всего там нет балконов и можно присвоить пропускам значение 0)\n",
    "* ponds_around3000 - число водоёмов в радиусе 3 км (скорее всего рядом нет водоемов и можно присвоить пропускам значение 0)\n",
    "* parks_around3000 - число парков в радиусе 3 км (скорее всего рядом нет парков и можно присвоить пропускам значение 0)\n",
    "\n",
    "\n",
    "**Данные, в которых лучше оставить значение Null, так как эти данные скорее всего просто забыли ввести:**\n",
    "\n",
    "* locality_name - название населённого пункта\n",
    "* ceiling_height - высота потолков (м)\n",
    "* floors_total - всего этажей в доме\n",
    "* living_area - жилая площадь в квадратных метрах (м²)\n",
    "* kitchen_area - площадь кухни в квадратных метрах (м²)\n",
    "* airports_nearest - расстояние до ближайшего аэропорта в метрах (м)\n",
    "* city_centers_nearest -  расстояние до центра города (м)\n",
    "* parks_nearest - расстояние до ближайшего парка (м)\n",
    "* ponds_nearest - расстояние до ближайшего водоёма (м)\n",
    "* days_exposition - сколько дней было размещено объявление (от публикации до снятия)"
   ]
  },
  {
   "cell_type": "code",
   "execution_count": 6,
   "metadata": {},
   "outputs": [],
   "source": [
    "data['is_apartment'] = data['is_apartment'].fillna('False')\n",
    "data['balcony'] = data['balcony'].fillna(0)\n",
    "data['ponds_around3000'] = data['ponds_around3000'].fillna(0)\n",
    "data['parks_around3000'] = data['parks_around3000'].fillna(0)"
   ]
  },
  {
   "cell_type": "code",
   "execution_count": 7,
   "metadata": {},
   "outputs": [
    {
     "data": {
      "text/plain": [
       "total_images                0\n",
       "last_price                  0\n",
       "total_area                  0\n",
       "first_day_exposition        0\n",
       "rooms                       0\n",
       "ceiling_height           9195\n",
       "floors_total               86\n",
       "living_area              1903\n",
       "floor                       0\n",
       "is_apartment                0\n",
       "studio                      0\n",
       "open_plan                   0\n",
       "kitchen_area             2278\n",
       "balcony                     0\n",
       "locality_name              49\n",
       "airports_nearest         5542\n",
       "city_centers_nearest     5519\n",
       "parks_around3000            0\n",
       "parks_nearest           15620\n",
       "ponds_around3000            0\n",
       "ponds_nearest           14589\n",
       "days_exposition          3181\n",
       "dtype: int64"
      ]
     },
     "execution_count": 7,
     "metadata": {},
     "output_type": "execute_result"
    }
   ],
   "source": [
    "data.isna().sum()"
   ]
  },
  {
   "cell_type": "markdown",
   "metadata": {},
   "source": [
    "Допустим, что высота потолка зависит от месторасположения квартиры относительно центра города.\n",
    "\n",
    "Поделим по категориям\n",
    "\n",
    "0-3000 - самый центр\n",
    "3000-6000 - центральная часть\n",
    "6000-17000 - большая часть города\n",
    "больше 17000 - пригород"
   ]
  },
  {
   "cell_type": "code",
   "execution_count": 8,
   "metadata": {},
   "outputs": [],
   "source": [
    "def categ_ceiling_height(center):\n",
    "    try:\n",
    "        if 0 <= center <= 3000:\n",
    "            return 'самый центр'\n",
    "        elif 3001 <= center <= 6000:    \n",
    "            return 'центральная часть'\n",
    "        elif 6001<= center <= 17000:    \n",
    "            return 'большая часть города'\n",
    "        elif center >= 17000:    \n",
    "            return 'пригород'\n",
    "        else:\n",
    "            return 'не определено'\n",
    "    except:\n",
    "        pass\n",
    "            "
   ]
  },
  {
   "cell_type": "code",
   "execution_count": 9,
   "metadata": {},
   "outputs": [],
   "source": [
    "data['city_centers_category'] = data['city_centers_nearest'].apply(categ_ceiling_height)"
   ]
  },
  {
   "cell_type": "markdown",
   "metadata": {},
   "source": [
    "Найдем медианное значение высоты потолка в зависимости от месторасположения квартиры"
   ]
  },
  {
   "cell_type": "code",
   "execution_count": 10,
   "metadata": {},
   "outputs": [],
   "source": [
    "for center in data['city_centers_category'].unique():\n",
    "    data.loc[(data['city_centers_category'] == center) & (data['ceiling_height'].isna()==True), 'ceiling_height'] =\\\n",
    "    data.loc[(data['city_centers_category'] == center), 'ceiling_height'].median()"
   ]
  },
  {
   "cell_type": "code",
   "execution_count": 11,
   "metadata": {},
   "outputs": [
    {
     "data": {
      "text/plain": [
       "0"
      ]
     },
     "execution_count": 11,
     "metadata": {},
     "output_type": "execute_result"
    }
   ],
   "source": [
    "data['ceiling_height'].isna().sum()"
   ]
  },
  {
   "cell_type": "markdown",
   "metadata": {},
   "source": [
    "**Проверяем типы данных**"
   ]
  },
  {
   "cell_type": "code",
   "execution_count": 12,
   "metadata": {},
   "outputs": [
    {
     "name": "stdout",
     "output_type": "stream",
     "text": [
      "<class 'pandas.core.frame.DataFrame'>\n",
      "RangeIndex: 23699 entries, 0 to 23698\n",
      "Data columns (total 23 columns):\n",
      " #   Column                 Non-Null Count  Dtype  \n",
      "---  ------                 --------------  -----  \n",
      " 0   total_images           23699 non-null  int64  \n",
      " 1   last_price             23699 non-null  float64\n",
      " 2   total_area             23699 non-null  float64\n",
      " 3   first_day_exposition   23699 non-null  object \n",
      " 4   rooms                  23699 non-null  int64  \n",
      " 5   ceiling_height         23699 non-null  float64\n",
      " 6   floors_total           23613 non-null  float64\n",
      " 7   living_area            21796 non-null  float64\n",
      " 8   floor                  23699 non-null  int64  \n",
      " 9   is_apartment           23699 non-null  object \n",
      " 10  studio                 23699 non-null  bool   \n",
      " 11  open_plan              23699 non-null  bool   \n",
      " 12  kitchen_area           21421 non-null  float64\n",
      " 13  balcony                23699 non-null  float64\n",
      " 14  locality_name          23650 non-null  object \n",
      " 15  airports_nearest       18157 non-null  float64\n",
      " 16  city_centers_nearest   18180 non-null  float64\n",
      " 17  parks_around3000       23699 non-null  float64\n",
      " 18  parks_nearest          8079 non-null   float64\n",
      " 19  ponds_around3000       23699 non-null  float64\n",
      " 20  ponds_nearest          9110 non-null   float64\n",
      " 21  days_exposition        20518 non-null  float64\n",
      " 22  city_centers_category  23699 non-null  object \n",
      "dtypes: bool(2), float64(14), int64(3), object(4)\n",
      "memory usage: 3.8+ MB\n"
     ]
    }
   ],
   "source": [
    "data.info()"
   ]
  },
  {
   "cell_type": "markdown",
   "metadata": {},
   "source": [
    "**Столбцы, которых необходимо изменить тип данных:**\n",
    "\n",
    "* last_price - int64\n",
    "* first_day_exposition - date (для дальнейшего удобства работы с датой)\n",
    "* floors_total - int8\n",
    "* is_apartment - bool\n",
    "* balcony - int8\n",
    "* days_exposition - int64\n",
    "\n",
    "В основном, изменение типа данных необходимо для экономии памяти. Только в случае с first_day_exposition это необходимо для дальнейшего удобство в работе с данными."
   ]
  },
  {
   "cell_type": "code",
   "execution_count": 13,
   "metadata": {},
   "outputs": [],
   "source": [
    "try:\n",
    "    data['last_price'] = data['last_price'].astype('int64')\n",
    "except:\n",
    "    print('Ошибка при изменении типа last_price в int64')\n",
    "    \n",
    "try:    \n",
    "    data['first_day_exposition'] = pd.to_datetime(data['first_day_exposition'],format='%Y-%m-%dT%H:%M:%S')\n",
    "except:\n",
    "    print('Ошибка при изменении типа first_day_exposition в date')\n",
    "    \n",
    "try:\n",
    "    data['floors_total'] =  data['floors_total'].astype('Int8')\n",
    "except:\n",
    "    print('Ошибка при изменении типа floors_total в int8')\n",
    "      \n",
    "try:\n",
    "    data['is_apartment'] = data['is_apartment'].map({'False':False, 'True':True})\n",
    "except:\n",
    "    print('Ошибка при изменении типа is_apartment в bool')\n",
    "        \n",
    "try:\n",
    "    data['balcony'] = data['balcony'].astype('int8')\n",
    "except:\n",
    "    print('Ошибка при изменении типа balcony в int8')\n",
    "    \n",
    "try:\n",
    "    data['days_exposition'] = np.floor(pd.to_numeric(data['days_exposition'], errors='coerce')).astype('Int64')\n",
    "except:\n",
    "    print('Ошибка при изменении типа days_exposition в int64')"
   ]
  },
  {
   "cell_type": "code",
   "execution_count": 14,
   "metadata": {},
   "outputs": [
    {
     "name": "stdout",
     "output_type": "stream",
     "text": [
      "<class 'pandas.core.frame.DataFrame'>\n",
      "RangeIndex: 23699 entries, 0 to 23698\n",
      "Data columns (total 23 columns):\n",
      " #   Column                 Non-Null Count  Dtype         \n",
      "---  ------                 --------------  -----         \n",
      " 0   total_images           23699 non-null  int64         \n",
      " 1   last_price             23699 non-null  int64         \n",
      " 2   total_area             23699 non-null  float64       \n",
      " 3   first_day_exposition   23699 non-null  datetime64[ns]\n",
      " 4   rooms                  23699 non-null  int64         \n",
      " 5   ceiling_height         23699 non-null  float64       \n",
      " 6   floors_total           23613 non-null  Int8          \n",
      " 7   living_area            21796 non-null  float64       \n",
      " 8   floor                  23699 non-null  int64         \n",
      " 9   is_apartment           20924 non-null  object        \n",
      " 10  studio                 23699 non-null  bool          \n",
      " 11  open_plan              23699 non-null  bool          \n",
      " 12  kitchen_area           21421 non-null  float64       \n",
      " 13  balcony                23699 non-null  int8          \n",
      " 14  locality_name          23650 non-null  object        \n",
      " 15  airports_nearest       18157 non-null  float64       \n",
      " 16  city_centers_nearest   18180 non-null  float64       \n",
      " 17  parks_around3000       23699 non-null  float64       \n",
      " 18  parks_nearest          8079 non-null   float64       \n",
      " 19  ponds_around3000       23699 non-null  float64       \n",
      " 20  ponds_nearest          9110 non-null   float64       \n",
      " 21  days_exposition        20518 non-null  Int64         \n",
      " 22  city_centers_category  23699 non-null  object        \n",
      "dtypes: Int64(1), Int8(1), bool(2), datetime64[ns](1), float64(10), int64(4), int8(1), object(3)\n",
      "memory usage: 3.6+ MB\n"
     ]
    }
   ],
   "source": [
    "data.info()"
   ]
  },
  {
   "cell_type": "markdown",
   "metadata": {},
   "source": [
    "**Устранение неявных дубликатов**\n",
    "\n",
    "Чтобы устранить неявные дубликаты выполним следущие действия: приведем все названия в нижний регистр, выполним замену \"ё\" на \"е\" и заменим \"городской поселок\" и \"поселок городского типа\" на \"поселок\". Затем проверим на наличие явных дубликатов. "
   ]
  },
  {
   "cell_type": "markdown",
   "metadata": {},
   "source": [
    "Для начала проверим количество уникальных значений в столбце locality_name"
   ]
  },
  {
   "cell_type": "code",
   "execution_count": 15,
   "metadata": {},
   "outputs": [
    {
     "data": {
      "text/plain": [
       "365"
      ]
     },
     "execution_count": 15,
     "metadata": {},
     "output_type": "execute_result"
    }
   ],
   "source": [
    "data['locality_name'].unique().shape[0]"
   ]
  },
  {
   "cell_type": "markdown",
   "metadata": {},
   "source": [
    "Изменим регистр на нижний, выполним замену \"ё\" на \"е\", заменим \"городской поселок\" и \"поселок городского типа\" на \"поселок\""
   ]
  },
  {
   "cell_type": "code",
   "execution_count": 16,
   "metadata": {},
   "outputs": [],
   "source": [
    "data['locality_name'] = data['locality_name'].str.lower()\n",
    "\n",
    "data['locality_name'] = data['locality_name'].str.replace('ё', 'е')\n",
    "\n",
    "data['locality_name'] = data['locality_name'].str.replace('городской поселок','поселок')\n",
    "data['locality_name'] = data['locality_name'].str.replace('поселок городского типа','поселок')"
   ]
  },
  {
   "cell_type": "markdown",
   "metadata": {},
   "source": [
    "Проверим, насколько уменьшилось количество уникальных значений в столбце locality_name, то есть сколько неявных дубликатов нам удалось удалить"
   ]
  },
  {
   "cell_type": "code",
   "execution_count": 17,
   "metadata": {},
   "outputs": [
    {
     "data": {
      "text/plain": [
       "323"
      ]
     },
     "execution_count": 17,
     "metadata": {},
     "output_type": "execute_result"
    }
   ],
   "source": [
    "data['locality_name'].unique().shape[0]"
   ]
  },
  {
   "cell_type": "markdown",
   "metadata": {},
   "source": [
    "**Устранение редких и выбивающихся значений**"
   ]
  },
  {
   "cell_type": "markdown",
   "metadata": {},
   "source": [
    "Выведем распределение значений в данных"
   ]
  },
  {
   "cell_type": "code",
   "execution_count": 18,
   "metadata": {},
   "outputs": [
    {
     "data": {
      "text/html": [
       "<div>\n",
       "<style scoped>\n",
       "    .dataframe tbody tr th:only-of-type {\n",
       "        vertical-align: middle;\n",
       "    }\n",
       "\n",
       "    .dataframe tbody tr th {\n",
       "        vertical-align: top;\n",
       "    }\n",
       "\n",
       "    .dataframe thead th {\n",
       "        text-align: right;\n",
       "    }\n",
       "</style>\n",
       "<table border=\"1\" class=\"dataframe\">\n",
       "  <thead>\n",
       "    <tr style=\"text-align: right;\">\n",
       "      <th></th>\n",
       "      <th>total_images</th>\n",
       "      <th>last_price</th>\n",
       "      <th>total_area</th>\n",
       "      <th>rooms</th>\n",
       "      <th>ceiling_height</th>\n",
       "      <th>floors_total</th>\n",
       "      <th>living_area</th>\n",
       "      <th>floor</th>\n",
       "      <th>kitchen_area</th>\n",
       "      <th>balcony</th>\n",
       "      <th>airports_nearest</th>\n",
       "      <th>city_centers_nearest</th>\n",
       "      <th>parks_around3000</th>\n",
       "      <th>parks_nearest</th>\n",
       "      <th>ponds_around3000</th>\n",
       "      <th>ponds_nearest</th>\n",
       "      <th>days_exposition</th>\n",
       "    </tr>\n",
       "  </thead>\n",
       "  <tbody>\n",
       "    <tr>\n",
       "      <th>count</th>\n",
       "      <td>23699.000000</td>\n",
       "      <td>2.369900e+04</td>\n",
       "      <td>23699.000000</td>\n",
       "      <td>23699.000000</td>\n",
       "      <td>23699.000000</td>\n",
       "      <td>23613.000000</td>\n",
       "      <td>21796.000000</td>\n",
       "      <td>23699.000000</td>\n",
       "      <td>21421.000000</td>\n",
       "      <td>23699.000000</td>\n",
       "      <td>18157.000000</td>\n",
       "      <td>18180.000000</td>\n",
       "      <td>23699.000000</td>\n",
       "      <td>8079.000000</td>\n",
       "      <td>23699.000000</td>\n",
       "      <td>9110.000000</td>\n",
       "      <td>20518.000000</td>\n",
       "    </tr>\n",
       "    <tr>\n",
       "      <th>mean</th>\n",
       "      <td>9.858475</td>\n",
       "      <td>6.541549e+06</td>\n",
       "      <td>60.348651</td>\n",
       "      <td>2.070636</td>\n",
       "      <td>2.729795</td>\n",
       "      <td>10.673824</td>\n",
       "      <td>34.457852</td>\n",
       "      <td>5.892358</td>\n",
       "      <td>10.569807</td>\n",
       "      <td>0.591080</td>\n",
       "      <td>28793.672193</td>\n",
       "      <td>14191.277833</td>\n",
       "      <td>0.469049</td>\n",
       "      <td>490.804555</td>\n",
       "      <td>0.590911</td>\n",
       "      <td>517.980900</td>\n",
       "      <td>180.888634</td>\n",
       "    </tr>\n",
       "    <tr>\n",
       "      <th>std</th>\n",
       "      <td>5.682529</td>\n",
       "      <td>1.088701e+07</td>\n",
       "      <td>35.654083</td>\n",
       "      <td>1.078405</td>\n",
       "      <td>0.991359</td>\n",
       "      <td>6.597173</td>\n",
       "      <td>22.030445</td>\n",
       "      <td>4.885249</td>\n",
       "      <td>5.905438</td>\n",
       "      <td>0.959298</td>\n",
       "      <td>12630.880622</td>\n",
       "      <td>8608.386210</td>\n",
       "      <td>0.748534</td>\n",
       "      <td>342.317995</td>\n",
       "      <td>0.883999</td>\n",
       "      <td>277.720643</td>\n",
       "      <td>219.727988</td>\n",
       "    </tr>\n",
       "    <tr>\n",
       "      <th>min</th>\n",
       "      <td>0.000000</td>\n",
       "      <td>1.219000e+04</td>\n",
       "      <td>12.000000</td>\n",
       "      <td>0.000000</td>\n",
       "      <td>1.000000</td>\n",
       "      <td>1.000000</td>\n",
       "      <td>2.000000</td>\n",
       "      <td>1.000000</td>\n",
       "      <td>1.300000</td>\n",
       "      <td>0.000000</td>\n",
       "      <td>0.000000</td>\n",
       "      <td>181.000000</td>\n",
       "      <td>0.000000</td>\n",
       "      <td>1.000000</td>\n",
       "      <td>0.000000</td>\n",
       "      <td>13.000000</td>\n",
       "      <td>1.000000</td>\n",
       "    </tr>\n",
       "    <tr>\n",
       "      <th>25%</th>\n",
       "      <td>6.000000</td>\n",
       "      <td>3.400000e+06</td>\n",
       "      <td>40.000000</td>\n",
       "      <td>1.000000</td>\n",
       "      <td>2.600000</td>\n",
       "      <td>5.000000</td>\n",
       "      <td>18.600000</td>\n",
       "      <td>2.000000</td>\n",
       "      <td>7.000000</td>\n",
       "      <td>0.000000</td>\n",
       "      <td>18585.000000</td>\n",
       "      <td>9238.000000</td>\n",
       "      <td>0.000000</td>\n",
       "      <td>288.000000</td>\n",
       "      <td>0.000000</td>\n",
       "      <td>294.000000</td>\n",
       "      <td>45.000000</td>\n",
       "    </tr>\n",
       "    <tr>\n",
       "      <th>50%</th>\n",
       "      <td>9.000000</td>\n",
       "      <td>4.650000e+06</td>\n",
       "      <td>52.000000</td>\n",
       "      <td>2.000000</td>\n",
       "      <td>2.640000</td>\n",
       "      <td>9.000000</td>\n",
       "      <td>30.000000</td>\n",
       "      <td>4.000000</td>\n",
       "      <td>9.100000</td>\n",
       "      <td>0.000000</td>\n",
       "      <td>26726.000000</td>\n",
       "      <td>13098.500000</td>\n",
       "      <td>0.000000</td>\n",
       "      <td>455.000000</td>\n",
       "      <td>0.000000</td>\n",
       "      <td>502.000000</td>\n",
       "      <td>95.000000</td>\n",
       "    </tr>\n",
       "    <tr>\n",
       "      <th>75%</th>\n",
       "      <td>14.000000</td>\n",
       "      <td>6.800000e+06</td>\n",
       "      <td>69.900000</td>\n",
       "      <td>3.000000</td>\n",
       "      <td>2.750000</td>\n",
       "      <td>16.000000</td>\n",
       "      <td>42.300000</td>\n",
       "      <td>8.000000</td>\n",
       "      <td>12.000000</td>\n",
       "      <td>1.000000</td>\n",
       "      <td>37273.000000</td>\n",
       "      <td>16293.000000</td>\n",
       "      <td>1.000000</td>\n",
       "      <td>612.000000</td>\n",
       "      <td>1.000000</td>\n",
       "      <td>729.000000</td>\n",
       "      <td>232.000000</td>\n",
       "    </tr>\n",
       "    <tr>\n",
       "      <th>max</th>\n",
       "      <td>50.000000</td>\n",
       "      <td>7.630000e+08</td>\n",
       "      <td>900.000000</td>\n",
       "      <td>19.000000</td>\n",
       "      <td>100.000000</td>\n",
       "      <td>60.000000</td>\n",
       "      <td>409.700000</td>\n",
       "      <td>33.000000</td>\n",
       "      <td>112.000000</td>\n",
       "      <td>5.000000</td>\n",
       "      <td>84869.000000</td>\n",
       "      <td>65968.000000</td>\n",
       "      <td>3.000000</td>\n",
       "      <td>3190.000000</td>\n",
       "      <td>3.000000</td>\n",
       "      <td>1344.000000</td>\n",
       "      <td>1580.000000</td>\n",
       "    </tr>\n",
       "  </tbody>\n",
       "</table>\n",
       "</div>"
      ],
      "text/plain": [
       "       total_images    last_price    total_area         rooms  ceiling_height  \\\n",
       "count  23699.000000  2.369900e+04  23699.000000  23699.000000    23699.000000   \n",
       "mean       9.858475  6.541549e+06     60.348651      2.070636        2.729795   \n",
       "std        5.682529  1.088701e+07     35.654083      1.078405        0.991359   \n",
       "min        0.000000  1.219000e+04     12.000000      0.000000        1.000000   \n",
       "25%        6.000000  3.400000e+06     40.000000      1.000000        2.600000   \n",
       "50%        9.000000  4.650000e+06     52.000000      2.000000        2.640000   \n",
       "75%       14.000000  6.800000e+06     69.900000      3.000000        2.750000   \n",
       "max       50.000000  7.630000e+08    900.000000     19.000000      100.000000   \n",
       "\n",
       "       floors_total   living_area         floor  kitchen_area       balcony  \\\n",
       "count  23613.000000  21796.000000  23699.000000  21421.000000  23699.000000   \n",
       "mean      10.673824     34.457852      5.892358     10.569807      0.591080   \n",
       "std        6.597173     22.030445      4.885249      5.905438      0.959298   \n",
       "min        1.000000      2.000000      1.000000      1.300000      0.000000   \n",
       "25%        5.000000     18.600000      2.000000      7.000000      0.000000   \n",
       "50%        9.000000     30.000000      4.000000      9.100000      0.000000   \n",
       "75%       16.000000     42.300000      8.000000     12.000000      1.000000   \n",
       "max       60.000000    409.700000     33.000000    112.000000      5.000000   \n",
       "\n",
       "       airports_nearest  city_centers_nearest  parks_around3000  \\\n",
       "count      18157.000000          18180.000000      23699.000000   \n",
       "mean       28793.672193          14191.277833          0.469049   \n",
       "std        12630.880622           8608.386210          0.748534   \n",
       "min            0.000000            181.000000          0.000000   \n",
       "25%        18585.000000           9238.000000          0.000000   \n",
       "50%        26726.000000          13098.500000          0.000000   \n",
       "75%        37273.000000          16293.000000          1.000000   \n",
       "max        84869.000000          65968.000000          3.000000   \n",
       "\n",
       "       parks_nearest  ponds_around3000  ponds_nearest  days_exposition  \n",
       "count    8079.000000      23699.000000    9110.000000     20518.000000  \n",
       "mean      490.804555          0.590911     517.980900       180.888634  \n",
       "std       342.317995          0.883999     277.720643       219.727988  \n",
       "min         1.000000          0.000000      13.000000         1.000000  \n",
       "25%       288.000000          0.000000     294.000000        45.000000  \n",
       "50%       455.000000          0.000000     502.000000        95.000000  \n",
       "75%       612.000000          1.000000     729.000000       232.000000  \n",
       "max      3190.000000          3.000000    1344.000000      1580.000000  "
      ]
     },
     "execution_count": 18,
     "metadata": {},
     "output_type": "execute_result"
    }
   ],
   "source": [
    "data.describe()"
   ]
  },
  {
   "cell_type": "markdown",
   "metadata": {},
   "source": [
    "Рассмотрим подорительные данные"
   ]
  },
  {
   "cell_type": "markdown",
   "metadata": {},
   "source": [
    "**last_price**"
   ]
  },
  {
   "cell_type": "markdown",
   "metadata": {},
   "source": [
    "Посчитаем количество квартир мельше 100 000 и больше 100 000 000"
   ]
  },
  {
   "cell_type": "code",
   "execution_count": 19,
   "metadata": {},
   "outputs": [
    {
     "name": "stdout",
     "output_type": "stream",
     "text": [
      "Квартир стоимостью меньше 100.000: 1\n",
      "Квартир стоимостью больше 100.000.000: 37\n"
     ]
    }
   ],
   "source": [
    "print('Квартир стоимостью меньше 100.000:', data.query('last_price < 100000.0')['last_price'].count())\n",
    "print('Квартир стоимостью больше 100.000.000:', data.query('last_price > 100000000.0')['last_price'].count())"
   ]
  },
  {
   "cell_type": "markdown",
   "metadata": {},
   "source": [
    "Эти данные можно считать выбросами, так что следует их удалить"
   ]
  },
  {
   "cell_type": "markdown",
   "metadata": {},
   "source": [
    "Удалем выбросы столбца last_price"
   ]
  },
  {
   "cell_type": "code",
   "execution_count": 20,
   "metadata": {},
   "outputs": [],
   "source": [
    "data.drop(index=data.query('last_price < 100000.0').index,inplace=True)\n",
    "data.drop(index=data.query('last_price > 100000000.0').index,inplace=True)"
   ]
  },
  {
   "cell_type": "markdown",
   "metadata": {},
   "source": [
    "**total_area**"
   ]
  },
  {
   "cell_type": "markdown",
   "metadata": {},
   "source": [
    "Посчитаем количество квартир с площадью менее 10 кв.м и более 500 кв.м."
   ]
  },
  {
   "cell_type": "code",
   "execution_count": 21,
   "metadata": {},
   "outputs": [
    {
     "name": "stdout",
     "output_type": "stream",
     "text": [
      "Квартир площадью менее 10 кв.м.: 0\n",
      "Квартир площадью более 500 кв.м.: 3\n"
     ]
    }
   ],
   "source": [
    "print('Квартир площадью менее 10 кв.м.:',data.query('total_area < 10')['total_area'].count()) \n",
    "print('Квартир площадью более 500 кв.м.:',data.query('total_area > 500')['total_area'].count())"
   ]
  },
  {
   "cell_type": "markdown",
   "metadata": {},
   "source": [
    "Квартиры со площадью более 500 кв.м. можно считать за аномалии, тк их совсем мало. Поэтому удаляем эти данные."
   ]
  },
  {
   "cell_type": "code",
   "execution_count": 22,
   "metadata": {},
   "outputs": [],
   "source": [
    "data.drop(index=data.query('total_area > 500').index,inplace=True)"
   ]
  },
  {
   "cell_type": "markdown",
   "metadata": {},
   "source": [
    "**rooms**"
   ]
  },
  {
   "cell_type": "markdown",
   "metadata": {},
   "source": [
    "Проверим, сколько квартир без комнат. Возможно это студии, или апартаменты, или свободная планировка"
   ]
  },
  {
   "cell_type": "code",
   "execution_count": 23,
   "metadata": {},
   "outputs": [
    {
     "name": "stdout",
     "output_type": "stream",
     "text": [
      "Квартиры без комнат: 197\n",
      "Квартиры без комнат и студии, или апартаменты, или свободная планировка: 197\n"
     ]
    }
   ],
   "source": [
    "print('Квартиры без комнат:',data.query('rooms == 0')['rooms'].count())\n",
    "\n",
    "print('Квартиры без комнат и студии, или апартаменты, или свободная планировка:',\\\n",
    "      data.query('rooms == 0 and studio')['rooms'].count()\\\n",
    "      +data.query('rooms == 0 and is_apartment')['rooms'].count()\\\n",
    "      +data.query('rooms == 0 and open_plan')['rooms'].count()) "
   ]
  },
  {
   "cell_type": "markdown",
   "metadata": {},
   "source": [
    "Таким образом, квартиры без комнат не являются выбросами. Однако значений больше 7 комнат достаточно мало, так что это можно считать за аномалии и эти данные стит удалить."
   ]
  },
  {
   "cell_type": "code",
   "execution_count": 24,
   "metadata": {},
   "outputs": [],
   "source": [
    "data.drop(index=data.query('rooms > 7').index,inplace=True)"
   ]
  },
  {
   "cell_type": "markdown",
   "metadata": {},
   "source": [
    "**ceiling_height**"
   ]
  },
  {
   "cell_type": "markdown",
   "metadata": {},
   "source": [
    "Проверим, сколько квартир с разным метражом"
   ]
  },
  {
   "cell_type": "code",
   "execution_count": 25,
   "metadata": {},
   "outputs": [
    {
     "name": "stdout",
     "output_type": "stream",
     "text": [
      "Квартир с потолками от 4 до 5м:  36\n",
      "Квартир с потолками от 5 до 25м:  14\n",
      "Квартир с потолками от 25м до 36м:  19\n",
      "Квартир с потолками от 25м до 36м:  0\n",
      "Квартир с потолками от 50м:  1\n"
     ]
    }
   ],
   "source": [
    "print('Квартир с потолками от 4 до 5м: ', data.query('ceiling_height > 4 and ceiling_height <= 5')\\\n",
    "      ['ceiling_height'].count())\n",
    "print('Квартир с потолками от 5 до 25м: ', data.query('ceiling_height > 5 and ceiling_height < 25')\\\n",
    "                                                ['ceiling_height'].count())\n",
    "print('Квартир с потолками от 25м до 36м: ', data.query('ceiling_height >= 25 and ceiling_height <= 36')\\\n",
    "                                                  ['ceiling_height'].count())\n",
    "print('Квартир с потолками от 25м до 36м: ', data.query('ceiling_height > 36 and ceiling_height < 50')\\\n",
    "      ['ceiling_height'].count())\n",
    "print('Квартир с потолками от 50м: ', data.query('ceiling_height >= 50')['ceiling_height'].count())"
   ]
  },
  {
   "cell_type": "markdown",
   "metadata": {},
   "source": [
    "Не бывает квартир с потолками выше 4 метров или это считается аномалией. В данных квартир с потолками выше 25 метров и ниже 36 скорее всего была допущена ошибка, эти данные стоит отредактировать.А вот потолки от 5 до 25 метров и выше 50 метров можно считать аномалией и эти данные стоит удалить."
   ]
  },
  {
   "cell_type": "code",
   "execution_count": 26,
   "metadata": {},
   "outputs": [],
   "source": [
    "data.drop(index=data.query('ceiling_height > 4 and ceiling_height < 25').index,inplace=True)\n",
    "\n",
    "data.update(data[(data['ceiling_height'] >= 25) & (data['ceiling_height'] <= 36)]['ceiling_height']/10)\n",
    "\n",
    "data.drop(index=data.query('ceiling_height > 36').index,inplace=True)"
   ]
  },
  {
   "cell_type": "markdown",
   "metadata": {},
   "source": [
    "**floors_total**"
   ]
  },
  {
   "cell_type": "markdown",
   "metadata": {},
   "source": [
    "Проверим количество квартир в доме с более 30 этажами"
   ]
  },
  {
   "cell_type": "code",
   "execution_count": 27,
   "metadata": {},
   "outputs": [
    {
     "name": "stdout",
     "output_type": "stream",
     "text": [
      "Квартир в домах с более 30 этажами:  32\n"
     ]
    }
   ],
   "source": [
    "print('Квартир в домах с более 30 этажами: ',data.query('floors_total > 30')['floors_total'].count())"
   ]
  },
  {
   "cell_type": "markdown",
   "metadata": {},
   "source": [
    "Такие данные можно считать аномальными и их стоит удалить."
   ]
  },
  {
   "cell_type": "code",
   "execution_count": 28,
   "metadata": {},
   "outputs": [],
   "source": [
    "data.drop(index=data.query('floors_total > 30').index,inplace=True)"
   ]
  },
  {
   "cell_type": "markdown",
   "metadata": {},
   "source": [
    "**living_area**"
   ]
  },
  {
   "cell_type": "markdown",
   "metadata": {},
   "source": [
    "Проверим, сколько квартир с разной жилой площадью"
   ]
  },
  {
   "cell_type": "code",
   "execution_count": 29,
   "metadata": {},
   "outputs": [
    {
     "name": "stdout",
     "output_type": "stream",
     "text": [
      "Жилая площадь меньше 10 кв.м.:  25\n",
      "Жилая площадь больше 200:  12\n"
     ]
    }
   ],
   "source": [
    "print('Жилая площадь меньше 10 кв.м.: ',data.query('living_area < 10')['living_area'].count())\n",
    "print('Жилая площадь больше 200: ',data.query('living_area > 200')['living_area'].count())"
   ]
  },
  {
   "cell_type": "markdown",
   "metadata": {},
   "source": [
    "Квартиры с жилой площадью меньше 10кв.м. и более 200 кв.м. можно считать аномалиями. Значения стоит удалить."
   ]
  },
  {
   "cell_type": "code",
   "execution_count": 30,
   "metadata": {},
   "outputs": [],
   "source": [
    "data.drop(index=data.query('living_area < 10').index,inplace=True)\n",
    "data.drop(index=data.query('living_area > 200').index,inplace=True)"
   ]
  },
  {
   "cell_type": "markdown",
   "metadata": {},
   "source": [
    "**kitchen_area**"
   ]
  },
  {
   "cell_type": "markdown",
   "metadata": {},
   "source": [
    "Проверим, сколько квартир с разной площадью кухни"
   ]
  },
  {
   "cell_type": "code",
   "execution_count": 31,
   "metadata": {},
   "outputs": [
    {
     "name": "stdout",
     "output_type": "stream",
     "text": [
      "Площадь кухни меньше 2 кв.м.:  1\n",
      "Площадь кухни больше 50 кв.м.:  33\n"
     ]
    }
   ],
   "source": [
    "print('Площадь кухни меньше 2 кв.м.: ',data.query('kitchen_area < 2')['living_area'].count())\n",
    "print('Площадь кухни больше 50 кв.м.: ',data.query('kitchen_area > 50')['living_area'].count())"
   ]
  },
  {
   "cell_type": "markdown",
   "metadata": {},
   "source": [
    "Такие данные можно считать аномальными и их стоит удалить."
   ]
  },
  {
   "cell_type": "code",
   "execution_count": 32,
   "metadata": {},
   "outputs": [],
   "source": [
    "data.drop(index=data.query('kitchen_area < 2').index,inplace=True)\n",
    "data.drop(index=data.query('kitchen_area > 50').index,inplace=True)"
   ]
  },
  {
   "cell_type": "markdown",
   "metadata": {},
   "source": [
    "**days_exposition**"
   ]
  },
  {
   "cell_type": "markdown",
   "metadata": {},
   "source": [
    "Проверим количество объявлений, которым больше 3 лет"
   ]
  },
  {
   "cell_type": "code",
   "execution_count": 33,
   "metadata": {},
   "outputs": [
    {
     "name": "stdout",
     "output_type": "stream",
     "text": [
      "Объявлению больше 3 лет :  165\n"
     ]
    }
   ],
   "source": [
    "print('Объявлению больше 3 лет : ',data.query('days_exposition > 365*3')['days_exposition'].count())"
   ]
  },
  {
   "cell_type": "markdown",
   "metadata": {},
   "source": [
    "Такие данные можно считать аномальными и их стоит удалить."
   ]
  },
  {
   "cell_type": "code",
   "execution_count": 34,
   "metadata": {},
   "outputs": [],
   "source": [
    "data.drop(index=data.query('days_exposition > 365*3').index,inplace=True)"
   ]
  },
  {
   "cell_type": "markdown",
   "metadata": {},
   "source": [
    "**airports_nearest**"
   ]
  },
  {
   "cell_type": "markdown",
   "metadata": {},
   "source": [
    "Проверим количество квартир менее, чем в 5 метрах от аэропорта"
   ]
  },
  {
   "cell_type": "code",
   "execution_count": 35,
   "metadata": {},
   "outputs": [
    {
     "name": "stdout",
     "output_type": "stream",
     "text": [
      "Квартир менее, чем в 5 метрах от аэропорта: 1\n"
     ]
    }
   ],
   "source": [
    "print('Квартир менее, чем в 5 метрах от аэропорта:',data.query('airports_nearest < 5000')['airports_nearest'].count())"
   ]
  },
  {
   "cell_type": "markdown",
   "metadata": {},
   "source": [
    "Такие данные можно считать аномальными и их стоит удалить."
   ]
  },
  {
   "cell_type": "code",
   "execution_count": 36,
   "metadata": {},
   "outputs": [],
   "source": [
    "data.drop(index=data.query('airports_nearest < 5000').index,inplace=True)"
   ]
  },
  {
   "cell_type": "markdown",
   "metadata": {},
   "source": [
    "После удаления данных восстановим нумерацию"
   ]
  },
  {
   "cell_type": "code",
   "execution_count": 37,
   "metadata": {},
   "outputs": [],
   "source": [
    "data.reset_index(drop=True,inplace=True)"
   ]
  },
  {
   "cell_type": "code",
   "execution_count": 38,
   "metadata": {},
   "outputs": [
    {
     "data": {
      "text/html": [
       "<div>\n",
       "<style scoped>\n",
       "    .dataframe tbody tr th:only-of-type {\n",
       "        vertical-align: middle;\n",
       "    }\n",
       "\n",
       "    .dataframe tbody tr th {\n",
       "        vertical-align: top;\n",
       "    }\n",
       "\n",
       "    .dataframe thead th {\n",
       "        text-align: right;\n",
       "    }\n",
       "</style>\n",
       "<table border=\"1\" class=\"dataframe\">\n",
       "  <thead>\n",
       "    <tr style=\"text-align: right;\">\n",
       "      <th></th>\n",
       "      <th>total_images</th>\n",
       "      <th>last_price</th>\n",
       "      <th>total_area</th>\n",
       "      <th>rooms</th>\n",
       "      <th>ceiling_height</th>\n",
       "      <th>floors_total</th>\n",
       "      <th>living_area</th>\n",
       "      <th>floor</th>\n",
       "      <th>kitchen_area</th>\n",
       "      <th>balcony</th>\n",
       "      <th>airports_nearest</th>\n",
       "      <th>city_centers_nearest</th>\n",
       "      <th>parks_around3000</th>\n",
       "      <th>parks_nearest</th>\n",
       "      <th>ponds_around3000</th>\n",
       "      <th>ponds_nearest</th>\n",
       "      <th>days_exposition</th>\n",
       "    </tr>\n",
       "  </thead>\n",
       "  <tbody>\n",
       "    <tr>\n",
       "      <th>count</th>\n",
       "      <td>23310.000000</td>\n",
       "      <td>2.331000e+04</td>\n",
       "      <td>23310.000000</td>\n",
       "      <td>23310.000000</td>\n",
       "      <td>23310.000000</td>\n",
       "      <td>23226.000000</td>\n",
       "      <td>21434.000000</td>\n",
       "      <td>23310.000000</td>\n",
       "      <td>21066.000000</td>\n",
       "      <td>23310.000000</td>\n",
       "      <td>17800.000000</td>\n",
       "      <td>17820.000000</td>\n",
       "      <td>23310.000000</td>\n",
       "      <td>7875.000000</td>\n",
       "      <td>23310.00000</td>\n",
       "      <td>8868.000000</td>\n",
       "      <td>20167.000000</td>\n",
       "    </tr>\n",
       "    <tr>\n",
       "      <th>mean</th>\n",
       "      <td>9.852510</td>\n",
       "      <td>6.100680e+06</td>\n",
       "      <td>59.041679</td>\n",
       "      <td>2.048305</td>\n",
       "      <td>2.695509</td>\n",
       "      <td>10.665719</td>\n",
       "      <td>33.744967</td>\n",
       "      <td>5.883312</td>\n",
       "      <td>10.361274</td>\n",
       "      <td>0.592364</td>\n",
       "      <td>28834.169831</td>\n",
       "      <td>14258.808305</td>\n",
       "      <td>0.462462</td>\n",
       "      <td>490.405968</td>\n",
       "      <td>0.57988</td>\n",
       "      <td>521.748534</td>\n",
       "      <td>171.363267</td>\n",
       "    </tr>\n",
       "    <tr>\n",
       "      <th>std</th>\n",
       "      <td>5.674546</td>\n",
       "      <td>5.922112e+06</td>\n",
       "      <td>30.342155</td>\n",
       "      <td>1.019977</td>\n",
       "      <td>0.216009</td>\n",
       "      <td>6.535364</td>\n",
       "      <td>19.129655</td>\n",
       "      <td>4.859900</td>\n",
       "      <td>5.110424</td>\n",
       "      <td>0.959085</td>\n",
       "      <td>12672.608087</td>\n",
       "      <td>8578.023923</td>\n",
       "      <td>0.741987</td>\n",
       "      <td>339.738972</td>\n",
       "      <td>0.87340</td>\n",
       "      <td>277.139366</td>\n",
       "      <td>197.113974</td>\n",
       "    </tr>\n",
       "    <tr>\n",
       "      <th>min</th>\n",
       "      <td>0.000000</td>\n",
       "      <td>4.300000e+05</td>\n",
       "      <td>12.000000</td>\n",
       "      <td>0.000000</td>\n",
       "      <td>1.000000</td>\n",
       "      <td>1.000000</td>\n",
       "      <td>10.000000</td>\n",
       "      <td>1.000000</td>\n",
       "      <td>2.000000</td>\n",
       "      <td>0.000000</td>\n",
       "      <td>6450.000000</td>\n",
       "      <td>181.000000</td>\n",
       "      <td>0.000000</td>\n",
       "      <td>1.000000</td>\n",
       "      <td>0.00000</td>\n",
       "      <td>13.000000</td>\n",
       "      <td>1.000000</td>\n",
       "    </tr>\n",
       "    <tr>\n",
       "      <th>25%</th>\n",
       "      <td>6.000000</td>\n",
       "      <td>3.400000e+06</td>\n",
       "      <td>40.000000</td>\n",
       "      <td>1.000000</td>\n",
       "      <td>2.600000</td>\n",
       "      <td>5.000000</td>\n",
       "      <td>18.600000</td>\n",
       "      <td>2.000000</td>\n",
       "      <td>7.000000</td>\n",
       "      <td>0.000000</td>\n",
       "      <td>18500.000000</td>\n",
       "      <td>9403.000000</td>\n",
       "      <td>0.000000</td>\n",
       "      <td>288.000000</td>\n",
       "      <td>0.00000</td>\n",
       "      <td>299.000000</td>\n",
       "      <td>44.000000</td>\n",
       "    </tr>\n",
       "    <tr>\n",
       "      <th>50%</th>\n",
       "      <td>9.000000</td>\n",
       "      <td>4.600000e+06</td>\n",
       "      <td>52.000000</td>\n",
       "      <td>2.000000</td>\n",
       "      <td>2.640000</td>\n",
       "      <td>9.000000</td>\n",
       "      <td>30.000000</td>\n",
       "      <td>4.000000</td>\n",
       "      <td>9.000000</td>\n",
       "      <td>0.000000</td>\n",
       "      <td>26828.000000</td>\n",
       "      <td>13145.000000</td>\n",
       "      <td>0.000000</td>\n",
       "      <td>455.000000</td>\n",
       "      <td>0.00000</td>\n",
       "      <td>506.000000</td>\n",
       "      <td>93.000000</td>\n",
       "    </tr>\n",
       "    <tr>\n",
       "      <th>75%</th>\n",
       "      <td>14.000000</td>\n",
       "      <td>6.700000e+06</td>\n",
       "      <td>69.000000</td>\n",
       "      <td>3.000000</td>\n",
       "      <td>2.750000</td>\n",
       "      <td>16.000000</td>\n",
       "      <td>42.000000</td>\n",
       "      <td>8.000000</td>\n",
       "      <td>12.000000</td>\n",
       "      <td>1.000000</td>\n",
       "      <td>37364.000000</td>\n",
       "      <td>16298.000000</td>\n",
       "      <td>1.000000</td>\n",
       "      <td>612.000000</td>\n",
       "      <td>1.00000</td>\n",
       "      <td>733.000000</td>\n",
       "      <td>224.000000</td>\n",
       "    </tr>\n",
       "    <tr>\n",
       "      <th>max</th>\n",
       "      <td>50.000000</td>\n",
       "      <td>9.900000e+07</td>\n",
       "      <td>494.100000</td>\n",
       "      <td>7.000000</td>\n",
       "      <td>4.000000</td>\n",
       "      <td>29.000000</td>\n",
       "      <td>200.000000</td>\n",
       "      <td>27.000000</td>\n",
       "      <td>50.000000</td>\n",
       "      <td>5.000000</td>\n",
       "      <td>84853.000000</td>\n",
       "      <td>65952.000000</td>\n",
       "      <td>3.000000</td>\n",
       "      <td>3190.000000</td>\n",
       "      <td>3.00000</td>\n",
       "      <td>1344.000000</td>\n",
       "      <td>1095.000000</td>\n",
       "    </tr>\n",
       "  </tbody>\n",
       "</table>\n",
       "</div>"
      ],
      "text/plain": [
       "       total_images    last_price    total_area         rooms  ceiling_height  \\\n",
       "count  23310.000000  2.331000e+04  23310.000000  23310.000000    23310.000000   \n",
       "mean       9.852510  6.100680e+06     59.041679      2.048305        2.695509   \n",
       "std        5.674546  5.922112e+06     30.342155      1.019977        0.216009   \n",
       "min        0.000000  4.300000e+05     12.000000      0.000000        1.000000   \n",
       "25%        6.000000  3.400000e+06     40.000000      1.000000        2.600000   \n",
       "50%        9.000000  4.600000e+06     52.000000      2.000000        2.640000   \n",
       "75%       14.000000  6.700000e+06     69.000000      3.000000        2.750000   \n",
       "max       50.000000  9.900000e+07    494.100000      7.000000        4.000000   \n",
       "\n",
       "       floors_total   living_area         floor  kitchen_area       balcony  \\\n",
       "count  23226.000000  21434.000000  23310.000000  21066.000000  23310.000000   \n",
       "mean      10.665719     33.744967      5.883312     10.361274      0.592364   \n",
       "std        6.535364     19.129655      4.859900      5.110424      0.959085   \n",
       "min        1.000000     10.000000      1.000000      2.000000      0.000000   \n",
       "25%        5.000000     18.600000      2.000000      7.000000      0.000000   \n",
       "50%        9.000000     30.000000      4.000000      9.000000      0.000000   \n",
       "75%       16.000000     42.000000      8.000000     12.000000      1.000000   \n",
       "max       29.000000    200.000000     27.000000     50.000000      5.000000   \n",
       "\n",
       "       airports_nearest  city_centers_nearest  parks_around3000  \\\n",
       "count      17800.000000          17820.000000      23310.000000   \n",
       "mean       28834.169831          14258.808305          0.462462   \n",
       "std        12672.608087           8578.023923          0.741987   \n",
       "min         6450.000000            181.000000          0.000000   \n",
       "25%        18500.000000           9403.000000          0.000000   \n",
       "50%        26828.000000          13145.000000          0.000000   \n",
       "75%        37364.000000          16298.000000          1.000000   \n",
       "max        84853.000000          65952.000000          3.000000   \n",
       "\n",
       "       parks_nearest  ponds_around3000  ponds_nearest  days_exposition  \n",
       "count    7875.000000       23310.00000    8868.000000     20167.000000  \n",
       "mean      490.405968           0.57988     521.748534       171.363267  \n",
       "std       339.738972           0.87340     277.139366       197.113974  \n",
       "min         1.000000           0.00000      13.000000         1.000000  \n",
       "25%       288.000000           0.00000     299.000000        44.000000  \n",
       "50%       455.000000           0.00000     506.000000        93.000000  \n",
       "75%       612.000000           1.00000     733.000000       224.000000  \n",
       "max      3190.000000           3.00000    1344.000000      1095.000000  "
      ]
     },
     "execution_count": 38,
     "metadata": {},
     "output_type": "execute_result"
    }
   ],
   "source": [
    "data.describe()"
   ]
  },
  {
   "cell_type": "markdown",
   "metadata": {},
   "source": [
    "Таким образом, мы выполнили предобработку данных, переименовав при этом некорректно названные ячейки, устранив пропуски, изменив типы данных на более подходящие для определенный данных и для нашей дальнейшей работы. Также мы устранили дубликаты и аномальные, выбивающиеся данные."
   ]
  },
  {
   "cell_type": "markdown",
   "metadata": {},
   "source": [
    "### Посчитайте и добавьте в таблицу новые столбцы"
   ]
  },
  {
   "cell_type": "markdown",
   "metadata": {},
   "source": [
    "Цена одного квадратного метра"
   ]
  },
  {
   "cell_type": "code",
   "execution_count": 39,
   "metadata": {},
   "outputs": [],
   "source": [
    "data['cost_m2'] = data['last_price'] / data['total_area']"
   ]
  },
  {
   "cell_type": "markdown",
   "metadata": {},
   "source": [
    "День публикации объявления (0 - понедельник, 1 - вторник и т.д.)"
   ]
  },
  {
   "cell_type": "code",
   "execution_count": 40,
   "metadata": {},
   "outputs": [],
   "source": [
    "data['day_of_week'] = data['first_day_exposition'].dt.dayofweek"
   ]
  },
  {
   "cell_type": "markdown",
   "metadata": {},
   "source": [
    "Месяц публикации объявления"
   ]
  },
  {
   "cell_type": "code",
   "execution_count": 41,
   "metadata": {},
   "outputs": [],
   "source": [
    "data['month'] = data['first_day_exposition'].dt.month"
   ]
  },
  {
   "cell_type": "markdown",
   "metadata": {},
   "source": [
    "Год публикации объявления"
   ]
  },
  {
   "cell_type": "code",
   "execution_count": 42,
   "metadata": {},
   "outputs": [],
   "source": [
    "data['year'] = data['first_day_exposition'].dt.year"
   ]
  },
  {
   "cell_type": "markdown",
   "metadata": {},
   "source": [
    "Тип этажа квартиры (значения — «первый», «последний», «другой»)"
   ]
  },
  {
   "cell_type": "code",
   "execution_count": 43,
   "metadata": {},
   "outputs": [],
   "source": [
    "def typefloor(data):\n",
    "    try:\n",
    "        if data['floor'] == 1:\n",
    "            return 'первый'\n",
    "        elif data['floor'] == data['floors_total']:\n",
    "            return 'последний'\n",
    "        else:\n",
    "            return 'другой'\n",
    "    except:\n",
    "        'нет данных'\n",
    "data['type_of_floor'] = data.apply(typefloor, axis=1)"
   ]
  },
  {
   "cell_type": "markdown",
   "metadata": {},
   "source": [
    "Расстояние в км до центра города"
   ]
  },
  {
   "cell_type": "code",
   "execution_count": 44,
   "metadata": {},
   "outputs": [],
   "source": [
    "data['city_centers_nearest'] = round(data['city_centers_nearest'] / 1000)"
   ]
  },
  {
   "cell_type": "code",
   "execution_count": 45,
   "metadata": {},
   "outputs": [
    {
     "data": {
      "text/html": [
       "<div>\n",
       "<style scoped>\n",
       "    .dataframe tbody tr th:only-of-type {\n",
       "        vertical-align: middle;\n",
       "    }\n",
       "\n",
       "    .dataframe tbody tr th {\n",
       "        vertical-align: top;\n",
       "    }\n",
       "\n",
       "    .dataframe thead th {\n",
       "        text-align: right;\n",
       "    }\n",
       "</style>\n",
       "<table border=\"1\" class=\"dataframe\">\n",
       "  <thead>\n",
       "    <tr style=\"text-align: right;\">\n",
       "      <th></th>\n",
       "      <th>total_images</th>\n",
       "      <th>last_price</th>\n",
       "      <th>total_area</th>\n",
       "      <th>first_day_exposition</th>\n",
       "      <th>rooms</th>\n",
       "      <th>ceiling_height</th>\n",
       "      <th>floors_total</th>\n",
       "      <th>living_area</th>\n",
       "      <th>floor</th>\n",
       "      <th>is_apartment</th>\n",
       "      <th>...</th>\n",
       "      <th>parks_nearest</th>\n",
       "      <th>ponds_around3000</th>\n",
       "      <th>ponds_nearest</th>\n",
       "      <th>days_exposition</th>\n",
       "      <th>city_centers_category</th>\n",
       "      <th>cost_m2</th>\n",
       "      <th>day_of_week</th>\n",
       "      <th>month</th>\n",
       "      <th>year</th>\n",
       "      <th>type_of_floor</th>\n",
       "    </tr>\n",
       "  </thead>\n",
       "  <tbody>\n",
       "    <tr>\n",
       "      <th>0</th>\n",
       "      <td>20</td>\n",
       "      <td>13000000</td>\n",
       "      <td>108.00</td>\n",
       "      <td>2019-03-07</td>\n",
       "      <td>3</td>\n",
       "      <td>2.70</td>\n",
       "      <td>16</td>\n",
       "      <td>51.00</td>\n",
       "      <td>8</td>\n",
       "      <td>False</td>\n",
       "      <td>...</td>\n",
       "      <td>482.0</td>\n",
       "      <td>2.0</td>\n",
       "      <td>755.0</td>\n",
       "      <td>&lt;NA&gt;</td>\n",
       "      <td>большая часть города</td>\n",
       "      <td>120370.370370</td>\n",
       "      <td>3</td>\n",
       "      <td>3</td>\n",
       "      <td>2019</td>\n",
       "      <td>другой</td>\n",
       "    </tr>\n",
       "    <tr>\n",
       "      <th>1</th>\n",
       "      <td>7</td>\n",
       "      <td>3350000</td>\n",
       "      <td>40.40</td>\n",
       "      <td>2018-12-04</td>\n",
       "      <td>1</td>\n",
       "      <td>2.60</td>\n",
       "      <td>11</td>\n",
       "      <td>18.60</td>\n",
       "      <td>1</td>\n",
       "      <td>False</td>\n",
       "      <td>...</td>\n",
       "      <td>NaN</td>\n",
       "      <td>0.0</td>\n",
       "      <td>NaN</td>\n",
       "      <td>81</td>\n",
       "      <td>пригород</td>\n",
       "      <td>82920.792079</td>\n",
       "      <td>1</td>\n",
       "      <td>12</td>\n",
       "      <td>2018</td>\n",
       "      <td>первый</td>\n",
       "    </tr>\n",
       "    <tr>\n",
       "      <th>2</th>\n",
       "      <td>10</td>\n",
       "      <td>5196000</td>\n",
       "      <td>56.00</td>\n",
       "      <td>2015-08-20</td>\n",
       "      <td>2</td>\n",
       "      <td>2.64</td>\n",
       "      <td>5</td>\n",
       "      <td>34.30</td>\n",
       "      <td>4</td>\n",
       "      <td>False</td>\n",
       "      <td>...</td>\n",
       "      <td>90.0</td>\n",
       "      <td>2.0</td>\n",
       "      <td>574.0</td>\n",
       "      <td>558</td>\n",
       "      <td>большая часть города</td>\n",
       "      <td>92785.714286</td>\n",
       "      <td>3</td>\n",
       "      <td>8</td>\n",
       "      <td>2015</td>\n",
       "      <td>другой</td>\n",
       "    </tr>\n",
       "    <tr>\n",
       "      <th>3</th>\n",
       "      <td>0</td>\n",
       "      <td>64900000</td>\n",
       "      <td>159.00</td>\n",
       "      <td>2015-07-24</td>\n",
       "      <td>3</td>\n",
       "      <td>2.64</td>\n",
       "      <td>14</td>\n",
       "      <td>NaN</td>\n",
       "      <td>9</td>\n",
       "      <td>False</td>\n",
       "      <td>...</td>\n",
       "      <td>84.0</td>\n",
       "      <td>3.0</td>\n",
       "      <td>234.0</td>\n",
       "      <td>424</td>\n",
       "      <td>большая часть города</td>\n",
       "      <td>408176.100629</td>\n",
       "      <td>4</td>\n",
       "      <td>7</td>\n",
       "      <td>2015</td>\n",
       "      <td>другой</td>\n",
       "    </tr>\n",
       "    <tr>\n",
       "      <th>4</th>\n",
       "      <td>2</td>\n",
       "      <td>10000000</td>\n",
       "      <td>100.00</td>\n",
       "      <td>2018-06-19</td>\n",
       "      <td>2</td>\n",
       "      <td>3.03</td>\n",
       "      <td>14</td>\n",
       "      <td>32.00</td>\n",
       "      <td>13</td>\n",
       "      <td>False</td>\n",
       "      <td>...</td>\n",
       "      <td>112.0</td>\n",
       "      <td>1.0</td>\n",
       "      <td>48.0</td>\n",
       "      <td>121</td>\n",
       "      <td>большая часть города</td>\n",
       "      <td>100000.000000</td>\n",
       "      <td>1</td>\n",
       "      <td>6</td>\n",
       "      <td>2018</td>\n",
       "      <td>другой</td>\n",
       "    </tr>\n",
       "    <tr>\n",
       "      <th>5</th>\n",
       "      <td>10</td>\n",
       "      <td>2890000</td>\n",
       "      <td>30.40</td>\n",
       "      <td>2018-09-10</td>\n",
       "      <td>1</td>\n",
       "      <td>2.60</td>\n",
       "      <td>12</td>\n",
       "      <td>14.40</td>\n",
       "      <td>5</td>\n",
       "      <td>False</td>\n",
       "      <td>...</td>\n",
       "      <td>NaN</td>\n",
       "      <td>0.0</td>\n",
       "      <td>NaN</td>\n",
       "      <td>55</td>\n",
       "      <td>не определено</td>\n",
       "      <td>95065.789474</td>\n",
       "      <td>0</td>\n",
       "      <td>9</td>\n",
       "      <td>2018</td>\n",
       "      <td>другой</td>\n",
       "    </tr>\n",
       "    <tr>\n",
       "      <th>6</th>\n",
       "      <td>6</td>\n",
       "      <td>3700000</td>\n",
       "      <td>37.30</td>\n",
       "      <td>2017-11-02</td>\n",
       "      <td>1</td>\n",
       "      <td>2.60</td>\n",
       "      <td>26</td>\n",
       "      <td>10.60</td>\n",
       "      <td>6</td>\n",
       "      <td>False</td>\n",
       "      <td>...</td>\n",
       "      <td>NaN</td>\n",
       "      <td>0.0</td>\n",
       "      <td>NaN</td>\n",
       "      <td>155</td>\n",
       "      <td>пригород</td>\n",
       "      <td>99195.710456</td>\n",
       "      <td>3</td>\n",
       "      <td>11</td>\n",
       "      <td>2017</td>\n",
       "      <td>другой</td>\n",
       "    </tr>\n",
       "    <tr>\n",
       "      <th>7</th>\n",
       "      <td>5</td>\n",
       "      <td>7915000</td>\n",
       "      <td>71.60</td>\n",
       "      <td>2019-04-18</td>\n",
       "      <td>2</td>\n",
       "      <td>2.64</td>\n",
       "      <td>24</td>\n",
       "      <td>NaN</td>\n",
       "      <td>22</td>\n",
       "      <td>False</td>\n",
       "      <td>...</td>\n",
       "      <td>NaN</td>\n",
       "      <td>0.0</td>\n",
       "      <td>NaN</td>\n",
       "      <td>&lt;NA&gt;</td>\n",
       "      <td>большая часть города</td>\n",
       "      <td>110544.692737</td>\n",
       "      <td>3</td>\n",
       "      <td>4</td>\n",
       "      <td>2019</td>\n",
       "      <td>другой</td>\n",
       "    </tr>\n",
       "    <tr>\n",
       "      <th>8</th>\n",
       "      <td>20</td>\n",
       "      <td>2900000</td>\n",
       "      <td>33.16</td>\n",
       "      <td>2018-05-23</td>\n",
       "      <td>1</td>\n",
       "      <td>2.60</td>\n",
       "      <td>27</td>\n",
       "      <td>15.43</td>\n",
       "      <td>26</td>\n",
       "      <td>False</td>\n",
       "      <td>...</td>\n",
       "      <td>NaN</td>\n",
       "      <td>0.0</td>\n",
       "      <td>NaN</td>\n",
       "      <td>189</td>\n",
       "      <td>не определено</td>\n",
       "      <td>87454.764777</td>\n",
       "      <td>2</td>\n",
       "      <td>5</td>\n",
       "      <td>2018</td>\n",
       "      <td>другой</td>\n",
       "    </tr>\n",
       "    <tr>\n",
       "      <th>9</th>\n",
       "      <td>18</td>\n",
       "      <td>5400000</td>\n",
       "      <td>61.00</td>\n",
       "      <td>2017-02-26</td>\n",
       "      <td>3</td>\n",
       "      <td>2.50</td>\n",
       "      <td>9</td>\n",
       "      <td>43.60</td>\n",
       "      <td>7</td>\n",
       "      <td>False</td>\n",
       "      <td>...</td>\n",
       "      <td>NaN</td>\n",
       "      <td>0.0</td>\n",
       "      <td>NaN</td>\n",
       "      <td>289</td>\n",
       "      <td>большая часть города</td>\n",
       "      <td>88524.590164</td>\n",
       "      <td>6</td>\n",
       "      <td>2</td>\n",
       "      <td>2017</td>\n",
       "      <td>другой</td>\n",
       "    </tr>\n",
       "  </tbody>\n",
       "</table>\n",
       "<p>10 rows × 28 columns</p>\n",
       "</div>"
      ],
      "text/plain": [
       "   total_images  last_price  total_area first_day_exposition  rooms  \\\n",
       "0            20    13000000      108.00           2019-03-07      3   \n",
       "1             7     3350000       40.40           2018-12-04      1   \n",
       "2            10     5196000       56.00           2015-08-20      2   \n",
       "3             0    64900000      159.00           2015-07-24      3   \n",
       "4             2    10000000      100.00           2018-06-19      2   \n",
       "5            10     2890000       30.40           2018-09-10      1   \n",
       "6             6     3700000       37.30           2017-11-02      1   \n",
       "7             5     7915000       71.60           2019-04-18      2   \n",
       "8            20     2900000       33.16           2018-05-23      1   \n",
       "9            18     5400000       61.00           2017-02-26      3   \n",
       "\n",
       "   ceiling_height  floors_total  living_area  floor is_apartment  ...  \\\n",
       "0            2.70            16        51.00      8        False  ...   \n",
       "1            2.60            11        18.60      1        False  ...   \n",
       "2            2.64             5        34.30      4        False  ...   \n",
       "3            2.64            14          NaN      9        False  ...   \n",
       "4            3.03            14        32.00     13        False  ...   \n",
       "5            2.60            12        14.40      5        False  ...   \n",
       "6            2.60            26        10.60      6        False  ...   \n",
       "7            2.64            24          NaN     22        False  ...   \n",
       "8            2.60            27        15.43     26        False  ...   \n",
       "9            2.50             9        43.60      7        False  ...   \n",
       "\n",
       "   parks_nearest  ponds_around3000  ponds_nearest  days_exposition  \\\n",
       "0          482.0               2.0          755.0             <NA>   \n",
       "1            NaN               0.0            NaN               81   \n",
       "2           90.0               2.0          574.0              558   \n",
       "3           84.0               3.0          234.0              424   \n",
       "4          112.0               1.0           48.0              121   \n",
       "5            NaN               0.0            NaN               55   \n",
       "6            NaN               0.0            NaN              155   \n",
       "7            NaN               0.0            NaN             <NA>   \n",
       "8            NaN               0.0            NaN              189   \n",
       "9            NaN               0.0            NaN              289   \n",
       "\n",
       "  city_centers_category        cost_m2  day_of_week  month  year  \\\n",
       "0  большая часть города  120370.370370            3      3  2019   \n",
       "1              пригород   82920.792079            1     12  2018   \n",
       "2  большая часть города   92785.714286            3      8  2015   \n",
       "3  большая часть города  408176.100629            4      7  2015   \n",
       "4  большая часть города  100000.000000            1      6  2018   \n",
       "5         не определено   95065.789474            0      9  2018   \n",
       "6              пригород   99195.710456            3     11  2017   \n",
       "7  большая часть города  110544.692737            3      4  2019   \n",
       "8         не определено   87454.764777            2      5  2018   \n",
       "9  большая часть города   88524.590164            6      2  2017   \n",
       "\n",
       "   type_of_floor  \n",
       "0         другой  \n",
       "1         первый  \n",
       "2         другой  \n",
       "3         другой  \n",
       "4         другой  \n",
       "5         другой  \n",
       "6         другой  \n",
       "7         другой  \n",
       "8         другой  \n",
       "9         другой  \n",
       "\n",
       "[10 rows x 28 columns]"
      ]
     },
     "execution_count": 45,
     "metadata": {},
     "output_type": "execute_result"
    }
   ],
   "source": [
    "data.head(10)"
   ]
  },
  {
   "cell_type": "markdown",
   "metadata": {},
   "source": [
    "В таблицу были добавлены слудующие данные:\n",
    "\n",
    "* цена одного квадратного метра;\n",
    "* день недели публикации объявления (0 — понедельник, 1 — вторник и так далее);\n",
    "* месяц публикации объявления;\n",
    "* год публикации объявления;\n",
    "* тип этажа квартиры (значения — «первый», «последний», «другой»);\n",
    "* расстояние до центра города в километрах (переведите из м в км и округлите до целых значений)."
   ]
  },
  {
   "cell_type": "markdown",
   "metadata": {},
   "source": [
    "### Проведите исследовательский анализ данных"
   ]
  },
  {
   "cell_type": "markdown",
   "metadata": {},
   "source": [
    "**Общая площадь**"
   ]
  },
  {
   "cell_type": "code",
   "execution_count": 46,
   "metadata": {},
   "outputs": [
    {
     "data": {
      "image/png": "[encoded data removed]",
      "text/plain": [
       "<Figure size 720x360 with 1 Axes>"
      ]
     },
     "metadata": {
      "needs_background": "light"
     },
     "output_type": "display_data"
    }
   ],
   "source": [
    "data.hist('total_area', figsize=(10, 5), bins=50);"
   ]
  },
  {
   "cell_type": "code",
   "execution_count": 47,
   "metadata": {},
   "outputs": [
    {
     "data": {
      "text/plain": [
       "count    23310.000000\n",
       "mean        59.041679\n",
       "std         30.342155\n",
       "min         12.000000\n",
       "25%         40.000000\n",
       "50%         52.000000\n",
       "75%         69.000000\n",
       "max        494.100000\n",
       "Name: total_area, dtype: float64"
      ]
     },
     "execution_count": 47,
     "metadata": {},
     "output_type": "execute_result"
    }
   ],
   "source": [
    "data['total_area'].describe()"
   ]
  },
  {
   "cell_type": "markdown",
   "metadata": {},
   "source": [
    "Гистограмма имеет вид распределения Пуассона.Среднее значение выше медианы, а значит имеются выбросы в верхних значениях. То есть есть квартиры большей площадью, чем среднее. Они завышают средние показатели площади. В большинстве случаев общая площадь квартир составляет от 40,0 м² до 68,3 м²."
   ]
  },
  {
   "cell_type": "markdown",
   "metadata": {},
   "source": [
    "**Жилая площадь**"
   ]
  },
  {
   "cell_type": "code",
   "execution_count": 48,
   "metadata": {},
   "outputs": [
    {
     "data": {
      "image/png": "[encoded data removed]",
      "text/plain": [
       "<Figure size 720x360 with 1 Axes>"
      ]
     },
     "metadata": {
      "needs_background": "light"
     },
     "output_type": "display_data"
    }
   ],
   "source": [
    "data.hist('living_area', figsize=(10, 5), bins=50);"
   ]
  },
  {
   "cell_type": "code",
   "execution_count": 49,
   "metadata": {},
   "outputs": [
    {
     "data": {
      "text/plain": [
       "count    21434.000000\n",
       "mean        33.744967\n",
       "std         19.129655\n",
       "min         10.000000\n",
       "25%         18.600000\n",
       "50%         30.000000\n",
       "75%         42.000000\n",
       "max        200.000000\n",
       "Name: living_area, dtype: float64"
      ]
     },
     "metadata": {},
     "output_type": "display_data"
    }
   ],
   "source": [
    "display(data['living_area'].describe())"
   ]
  },
  {
   "cell_type": "markdown",
   "metadata": {},
   "source": [
    "Гистограмма имеет вид распределения Пуассона. Среднее значение жилой площади немного выше медианы, что говорит о наличии выбросов в верхних значениях (аналогично пункту выше). В большинстве случаев жилая площадь квартир составляет от 23,2 м² до 41,0 м²."
   ]
  },
  {
   "cell_type": "markdown",
   "metadata": {},
   "source": [
    "**Площадь кухни**"
   ]
  },
  {
   "cell_type": "code",
   "execution_count": 50,
   "metadata": {},
   "outputs": [
    {
     "data": {
      "image/png": "[encoded data removed]",
      "text/plain": [
       "<Figure size 720x360 with 1 Axes>"
      ]
     },
     "metadata": {
      "needs_background": "light"
     },
     "output_type": "display_data"
    }
   ],
   "source": [
    "data.hist('kitchen_area', figsize=(10, 5), bins=50);"
   ]
  },
  {
   "cell_type": "code",
   "execution_count": 51,
   "metadata": {},
   "outputs": [
    {
     "data": {
      "text/plain": [
       "count    21066.000000\n",
       "mean        10.361274\n",
       "std          5.110424\n",
       "min          2.000000\n",
       "25%          7.000000\n",
       "50%          9.000000\n",
       "75%         12.000000\n",
       "max         50.000000\n",
       "Name: kitchen_area, dtype: float64"
      ]
     },
     "metadata": {},
     "output_type": "display_data"
    }
   ],
   "source": [
    "display(data['kitchen_area'].describe())"
   ]
  },
  {
   "cell_type": "markdown",
   "metadata": {},
   "source": [
    "Гистограмма имеет вид распределения Пуассона. Среднее значение площади кухни выше медианы, что говорит о наличии выбросов в верхних значениях. В большинстве случаев площадь кухни составляет от 7,3 м² до 11,4 м²."
   ]
  },
  {
   "cell_type": "markdown",
   "metadata": {},
   "source": [
    "**Цена объекта**"
   ]
  },
  {
   "cell_type": "code",
   "execution_count": 52,
   "metadata": {},
   "outputs": [
    {
     "data": {
      "image/png": "[encoded data removed]",
      "text/plain": [
       "<Figure size 720x360 with 1 Axes>"
      ]
     },
     "metadata": {
      "needs_background": "light"
     },
     "output_type": "display_data"
    }
   ],
   "source": [
    "data.hist('last_price', figsize=(10, 5), bins=50);"
   ]
  },
  {
   "cell_type": "code",
   "execution_count": 53,
   "metadata": {},
   "outputs": [
    {
     "data": {
      "text/plain": [
       "count    2.331000e+04\n",
       "mean     6.100680e+06\n",
       "std      5.922112e+06\n",
       "min      4.300000e+05\n",
       "25%      3.400000e+06\n",
       "50%      4.600000e+06\n",
       "75%      6.700000e+06\n",
       "max      9.900000e+07\n",
       "Name: last_price, dtype: float64"
      ]
     },
     "metadata": {},
     "output_type": "display_data"
    }
   ],
   "source": [
    "display(data['last_price'].describe())"
   ]
  },
  {
   "cell_type": "markdown",
   "metadata": {},
   "source": [
    "Гистограмма имеет вид распределения Пуассона.Среднее значение цены квартиры выше медианы, что говорит о выбросах в верхних значениях. В большинстве случаев цена квартиры составляет от 3,49 млн руб. до 6,70 млн руб."
   ]
  },
  {
   "cell_type": "markdown",
   "metadata": {},
   "source": [
    "**Количество комнат**"
   ]
  },
  {
   "cell_type": "code",
   "execution_count": 54,
   "metadata": {},
   "outputs": [
    {
     "data": {
      "image/png": "[encoded data removed]",
      "text/plain": [
       "<Figure size 720x360 with 1 Axes>"
      ]
     },
     "metadata": {
      "needs_background": "light"
     },
     "output_type": "display_data"
    }
   ],
   "source": [
    "#Построим гистограмму\n",
    "data.hist('rooms', figsize=(10, 5), bins=50);"
   ]
  },
  {
   "cell_type": "code",
   "execution_count": 55,
   "metadata": {},
   "outputs": [
    {
     "data": {
      "text/plain": [
       "count    23310.000000\n",
       "mean         2.048305\n",
       "std          1.019977\n",
       "min          0.000000\n",
       "25%          1.000000\n",
       "50%          2.000000\n",
       "75%          3.000000\n",
       "max          7.000000\n",
       "Name: rooms, dtype: float64"
      ]
     },
     "metadata": {},
     "output_type": "display_data"
    }
   ],
   "source": [
    "display(data['rooms'].describe())"
   ]
  },
  {
   "cell_type": "markdown",
   "metadata": {},
   "source": [
    "Среднее значение количества комнат совпадает с медианой. В большинстве случаев количество комнат в квартире составляет от 1 до 3."
   ]
  },
  {
   "cell_type": "markdown",
   "metadata": {},
   "source": [
    "**Высота потолков**"
   ]
  },
  {
   "cell_type": "code",
   "execution_count": 56,
   "metadata": {},
   "outputs": [
    {
     "data": {
      "image/png": "[encoded data removed]",
      "text/plain": [
       "<Figure size 720x360 with 1 Axes>"
      ]
     },
     "metadata": {
      "needs_background": "light"
     },
     "output_type": "display_data"
    }
   ],
   "source": [
    "#Построим гистограмму\n",
    "data.hist('ceiling_height', figsize=(10, 5), bins=50);"
   ]
  },
  {
   "cell_type": "code",
   "execution_count": 57,
   "metadata": {},
   "outputs": [
    {
     "data": {
      "text/plain": [
       "count    23310.000000\n",
       "mean         2.695509\n",
       "std          0.216009\n",
       "min          1.000000\n",
       "25%          2.600000\n",
       "50%          2.640000\n",
       "75%          2.750000\n",
       "max          4.000000\n",
       "Name: ceiling_height, dtype: float64"
      ]
     },
     "metadata": {},
     "output_type": "display_data"
    }
   ],
   "source": [
    "display(data['ceiling_height'].describe())"
   ]
  },
  {
   "cell_type": "markdown",
   "metadata": {},
   "source": [
    "Гистограмма частоты значений высоты потолков имеет вид распределения Пуассона.\n",
    "\n",
    "Среднее значение высоты потолков почти совпадает с медианой. В большинстве случаев высота потолков составляет от 2,50 м до 2,80 м."
   ]
  },
  {
   "cell_type": "markdown",
   "metadata": {},
   "source": [
    "**Этаж квартиры**"
   ]
  },
  {
   "cell_type": "code",
   "execution_count": 58,
   "metadata": {},
   "outputs": [
    {
     "data": {
      "image/png": "[encoded data removed]",
      "text/plain": [
       "<Figure size 720x360 with 1 Axes>"
      ]
     },
     "metadata": {
      "needs_background": "light"
     },
     "output_type": "display_data"
    }
   ],
   "source": [
    "#Построим гистограмму\n",
    "data.hist('floor', figsize=(10, 5), bins=50);"
   ]
  },
  {
   "cell_type": "code",
   "execution_count": 59,
   "metadata": {},
   "outputs": [
    {
     "data": {
      "text/plain": [
       "count    23310.000000\n",
       "mean         5.883312\n",
       "std          4.859900\n",
       "min          1.000000\n",
       "25%          2.000000\n",
       "50%          4.000000\n",
       "75%          8.000000\n",
       "max         27.000000\n",
       "Name: floor, dtype: float64"
      ]
     },
     "metadata": {},
     "output_type": "display_data"
    }
   ],
   "source": [
    "display(data['floor'].describe())"
   ]
  },
  {
   "cell_type": "markdown",
   "metadata": {},
   "source": [
    "Среднее значение этажа квартиры выше медианы, что говорит о небольшом количестве выбросов в верхней части. В большинстве случаев квартиры расположены от 2 до 8 этажей."
   ]
  },
  {
   "cell_type": "markdown",
   "metadata": {},
   "source": [
    "**Тип этажа квартиры**"
   ]
  },
  {
   "cell_type": "code",
   "execution_count": 60,
   "metadata": {},
   "outputs": [
    {
     "data": {
      "text/plain": [
       "<AxesSubplot:>"
      ]
     },
     "execution_count": 60,
     "metadata": {},
     "output_type": "execute_result"
    },
    {
     "data": {
      "image/png": "[encoded data removed]",
      "text/plain": [
       "<Figure size 864x360 with 1 Axes>"
      ]
     },
     "metadata": {
      "needs_background": "light"
     },
     "output_type": "display_data"
    }
   ],
   "source": [
    "#Построим гистограмму\n",
    "data['type_of_floor'].hist(figsize=(12, 5), bins=50)"
   ]
  },
  {
   "cell_type": "code",
   "execution_count": 61,
   "metadata": {},
   "outputs": [
    {
     "data": {
      "text/plain": [
       "count      23229\n",
       "unique         3\n",
       "top       другой\n",
       "freq       17088\n",
       "Name: type_of_floor, dtype: object"
      ]
     },
     "metadata": {},
     "output_type": "display_data"
    }
   ],
   "source": [
    "display(data['type_of_floor'].describe())"
   ]
  },
  {
   "cell_type": "markdown",
   "metadata": {},
   "source": [
    "Квартиры, в основном, расположены не на первом и не на последнем этаже. Но на последнем этаже больше, чем на первом."
   ]
  },
  {
   "cell_type": "markdown",
   "metadata": {},
   "source": [
    "**Общее количество этажей в доме**"
   ]
  },
  {
   "cell_type": "code",
   "execution_count": 62,
   "metadata": {},
   "outputs": [
    {
     "data": {
      "image/png": "[encoded data removed]",
      "text/plain": [
       "<Figure size 720x360 with 1 Axes>"
      ]
     },
     "metadata": {
      "needs_background": "light"
     },
     "output_type": "display_data"
    }
   ],
   "source": [
    "#Построим гистограмму\n",
    "data.hist('floors_total', figsize=(10, 5), bins=50);"
   ]
  },
  {
   "cell_type": "code",
   "execution_count": 63,
   "metadata": {},
   "outputs": [
    {
     "data": {
      "text/plain": [
       "count    23226.000000\n",
       "mean        10.665719\n",
       "std          6.535364\n",
       "min          1.000000\n",
       "25%          5.000000\n",
       "50%          9.000000\n",
       "75%         16.000000\n",
       "max         29.000000\n",
       "Name: floors_total, dtype: float64"
      ]
     },
     "metadata": {},
     "output_type": "display_data"
    }
   ],
   "source": [
    "display(data['floors_total'].describe())"
   ]
  },
  {
   "cell_type": "markdown",
   "metadata": {},
   "source": [
    "Среднее значение общего количества этажей в доме выше медианы, что также говорит о небольшом количестве выбросов в верхней части. В большинстве случаев общее количество этажей в доме составляет от 5 до 16."
   ]
  },
  {
   "cell_type": "markdown",
   "metadata": {},
   "source": [
    "**Расстояние до центра города**"
   ]
  },
  {
   "cell_type": "code",
   "execution_count": 64,
   "metadata": {},
   "outputs": [
    {
     "data": {
      "image/png": "[encoded data removed]",
      "text/plain": [
       "<Figure size 720x360 with 1 Axes>"
      ]
     },
     "metadata": {
      "needs_background": "light"
     },
     "output_type": "display_data"
    }
   ],
   "source": [
    "#Построим гистограмму\n",
    "data.hist('city_centers_nearest', figsize=(10, 5), bins=50);"
   ]
  },
  {
   "cell_type": "code",
   "execution_count": 65,
   "metadata": {},
   "outputs": [
    {
     "data": {
      "text/plain": [
       "count    17820.000000\n",
       "mean        14.253143\n",
       "std          8.586167\n",
       "min          0.000000\n",
       "25%          9.000000\n",
       "50%         13.000000\n",
       "75%         16.000000\n",
       "max         66.000000\n",
       "Name: city_centers_nearest, dtype: float64"
      ]
     },
     "metadata": {},
     "output_type": "display_data"
    }
   ],
   "source": [
    "display(data['city_centers_nearest'].describe())"
   ]
  },
  {
   "cell_type": "markdown",
   "metadata": {},
   "source": [
    "Среднее значение расстояния до центра города немного выше медианы. Скорее всего, основной вклад в отличие среднего от медианы вносит Санкт-Петербург из-за относительно большей площади и подавляющего количества данных в датафрейме. В большинстве случаев расстояние до центра города составляет от 9241 м до 16293 м."
   ]
  },
  {
   "cell_type": "markdown",
   "metadata": {},
   "source": [
    "**Расстояние до ближайшего аэропорта**"
   ]
  },
  {
   "cell_type": "code",
   "execution_count": 66,
   "metadata": {},
   "outputs": [
    {
     "data": {
      "image/png": "[encoded data removed]",
      "text/plain": [
       "<Figure size 720x360 with 1 Axes>"
      ]
     },
     "metadata": {
      "needs_background": "light"
     },
     "output_type": "display_data"
    }
   ],
   "source": [
    "#Построим гистограмму\n",
    "data.hist('airports_nearest', figsize=(10, 5), bins=50);"
   ]
  },
  {
   "cell_type": "code",
   "execution_count": 67,
   "metadata": {},
   "outputs": [
    {
     "data": {
      "text/plain": [
       "count    17800.000000\n",
       "mean     28834.169831\n",
       "std      12672.608087\n",
       "min       6450.000000\n",
       "25%      18500.000000\n",
       "50%      26828.000000\n",
       "75%      37364.000000\n",
       "max      84853.000000\n",
       "Name: airports_nearest, dtype: float64"
      ]
     },
     "metadata": {},
     "output_type": "display_data"
    }
   ],
   "source": [
    "display(data['airports_nearest'].describe())"
   ]
  },
  {
   "cell_type": "markdown",
   "metadata": {},
   "source": [
    "Гистограмма имеет вид распределения Пуассона.Среднее значение расстояния до ближайшего парка немного выше медианы. В большинстве случаев расстояние до ближайшего парка составляет от 288 м до 612 м."
   ]
  },
  {
   "cell_type": "markdown",
   "metadata": {},
   "source": [
    "**Расстояние до ближайшего парка**"
   ]
  },
  {
   "cell_type": "code",
   "execution_count": 68,
   "metadata": {},
   "outputs": [
    {
     "data": {
      "image/png": "[encoded data removed]",
      "text/plain": [
       "<Figure size 720x360 with 1 Axes>"
      ]
     },
     "metadata": {
      "needs_background": "light"
     },
     "output_type": "display_data"
    }
   ],
   "source": [
    "#Построим гистограмму\n",
    "data.hist('parks_nearest', figsize=(10, 5), bins=50);"
   ]
  },
  {
   "cell_type": "code",
   "execution_count": 69,
   "metadata": {},
   "outputs": [
    {
     "data": {
      "text/plain": [
       "count    7875.000000\n",
       "mean      490.405968\n",
       "std       339.738972\n",
       "min         1.000000\n",
       "25%       288.000000\n",
       "50%       455.000000\n",
       "75%       612.000000\n",
       "max      3190.000000\n",
       "Name: parks_nearest, dtype: float64"
      ]
     },
     "metadata": {},
     "output_type": "display_data"
    }
   ],
   "source": [
    "display(data['parks_nearest'].describe())"
   ]
  },
  {
   "cell_type": "markdown",
   "metadata": {},
   "source": [
    "Гистограмма имеет вид распределения Пуассона.Среднее значение общей площади немного выше медианы, что говорит о наличии выбросов в верхних значениях. Скорее всего эти выбросы происходят за счёт данных о Санкт-Петербурге (там находится больше парков) из-за относительно большей площади и подавляющего количества данных в датафрейме.В большинстве случаев общая площадь квартир составляет от 40,0 м² до 68,3 м²."
   ]
  },
  {
   "cell_type": "markdown",
   "metadata": {},
   "source": [
    "**День публикации объявления**"
   ]
  },
  {
   "cell_type": "code",
   "execution_count": 70,
   "metadata": {},
   "outputs": [
    {
     "data": {
      "image/png": "[encoded data removed]",
      "text/plain": [
       "<Figure size 720x360 with 1 Axes>"
      ]
     },
     "metadata": {
      "needs_background": "light"
     },
     "output_type": "display_data"
    }
   ],
   "source": [
    "#Построим гистограмму\n",
    "data.hist('day_of_week', figsize=(10, 5), bins=50);"
   ]
  },
  {
   "cell_type": "code",
   "execution_count": 71,
   "metadata": {},
   "outputs": [
    {
     "data": {
      "text/plain": [
       "count    23310.000000\n",
       "mean         2.572115\n",
       "std          1.790382\n",
       "min          0.000000\n",
       "25%          1.000000\n",
       "50%          3.000000\n",
       "75%          4.000000\n",
       "max          6.000000\n",
       "Name: day_of_week, dtype: float64"
      ]
     },
     "metadata": {},
     "output_type": "display_data"
    }
   ],
   "source": [
    "display(data['day_of_week'].describe())"
   ]
  },
  {
   "cell_type": "markdown",
   "metadata": {},
   "source": [
    "В большинстве случаев объявления публиковались по будням. Чаще всего это вторник и четверг."
   ]
  },
  {
   "cell_type": "markdown",
   "metadata": {},
   "source": [
    "**Месяц публикации объявления**"
   ]
  },
  {
   "cell_type": "code",
   "execution_count": 72,
   "metadata": {},
   "outputs": [
    {
     "data": {
      "image/png": "[encoded data removed]",
      "text/plain": [
       "<Figure size 720x360 with 1 Axes>"
      ]
     },
     "metadata": {
      "needs_background": "light"
     },
     "output_type": "display_data"
    }
   ],
   "source": [
    "#Построим гистограмму\n",
    "data.hist('month', figsize=(10, 5), bins=50);"
   ]
  },
  {
   "cell_type": "code",
   "execution_count": 73,
   "metadata": {},
   "outputs": [
    {
     "data": {
      "text/plain": [
       "count    23310.000000\n",
       "mean         6.400257\n",
       "std          3.487231\n",
       "min          1.000000\n",
       "25%          3.000000\n",
       "50%          6.000000\n",
       "75%         10.000000\n",
       "max         12.000000\n",
       "Name: month, dtype: float64"
      ]
     },
     "metadata": {},
     "output_type": "display_data"
    }
   ],
   "source": [
    "display(data['month'].describe())"
   ]
  },
  {
   "cell_type": "markdown",
   "metadata": {},
   "source": [
    "Из месяцев лидируют февраль, март, апрель и ноябрь. Нижние показатели в январе, мае, декабре, на что воз0можно влияют праздники. Летом также публикуется не так много объявлений, тк люди зачатую в отпусках или отдыхают."
   ]
  },
  {
   "cell_type": "markdown",
   "metadata": {},
   "source": [
    "**Как быстро продавются квартиры (столбец days_exposition)**"
   ]
  },
  {
   "cell_type": "code",
   "execution_count": 74,
   "metadata": {},
   "outputs": [
    {
     "name": "stdout",
     "output_type": "stream",
     "text": [
      "Среднее время продажи квартиры в днях: 171\n",
      "Медианное время продажи квартиры в днях: 93\n",
      "\n",
      "Выбросы: Количество объявлений, которые сняты через:\n",
      "45 дней: 877\n",
      "60 дней: 535\n",
      "90 дней: 202\n"
     ]
    },
    {
     "data": {
      "image/png": "[encoded data removed]",
      "text/plain": [
       "<Figure size 432x288 with 1 Axes>"
      ]
     },
     "metadata": {
      "needs_background": "light"
     },
     "output_type": "display_data"
    },
    {
     "data": {
      "image/png": "[encoded data removed]",
      "text/plain": [
       "<Figure size 432x288 with 1 Axes>"
      ]
     },
     "metadata": {
      "needs_background": "light"
     },
     "output_type": "display_data"
    }
   ],
   "source": [
    "data.hist('days_exposition', bins=100);\n",
    "data.hist('days_exposition', bins=100, range = (0,100));\n",
    "print(f'Среднее время продажи квартиры в днях:',int(data['days_exposition'].mean()))\n",
    "print('Медианное время продажи квартиры в днях:',int(data['days_exposition'].median()))\n",
    "\n",
    "print('\\nВыбросы: Количество объявлений, которые сняты через:')\n",
    "print('45 дней:',data[data['days_exposition']==45]['days_exposition'].count())\n",
    "print('60 дней:',data[data['days_exposition']==60]['days_exposition'].count())\n",
    "print('90 дней:',data[data['days_exposition']==90]['days_exposition'].count())"
   ]
  },
  {
   "cell_type": "markdown",
   "metadata": {},
   "source": [
    "Так,среднее время продажи квартиры составляет 171 день. Но если взять медиану - то это уже 93 дня. Это происходит из-за некоторых объявлений, когда квартиры продавались слишком долго. Скорее всего это объяления, у которых истек срок размещения или оно уже неактивно. Возможно на сайте объявлений есть сроки размещения объявлений, после которых объявление удаляется и это 45 и 60 дней."
   ]
  },
  {
   "cell_type": "markdown",
   "metadata": {},
   "source": [
    "**Какие факторы больше всего влияют на общую (полную) стоимость объекта**"
   ]
  },
  {
   "cell_type": "code",
   "execution_count": 75,
   "metadata": {},
   "outputs": [
    {
     "name": "stdout",
     "output_type": "stream",
     "text": [
      "Корреляция между last_price и total_area составляет: 75.51%\n",
      "Корреляция между last_price и living_area составляет: 66.54%\n",
      "Корреляция между last_price и kitchen_area составляет: 56.02%\n",
      "Корреляция между last_price и rooms составляет: 45.78%\n"
     ]
    }
   ],
   "source": [
    "list_for_graph = ['total_area',\n",
    "                  'living_area',\n",
    "                  'kitchen_area',\n",
    "                  'rooms',\n",
    "                  ]\n",
    "\n",
    "for t in list_for_graph:\n",
    "    correlation = data['last_price'].corr(data[t])\n",
    "    print(f'Корреляция между last_price и {t} составляет: {correlation:0.2%}')"
   ]
  },
  {
   "cell_type": "code",
   "execution_count": 76,
   "metadata": {
    "scrolled": false
   },
   "outputs": [
    {
     "data": {
      "text/plain": [
       "<AxesSubplot:title={'center':'median'}, xlabel='year'>"
      ]
     },
     "execution_count": 76,
     "metadata": {},
     "output_type": "execute_result"
    },
    {
     "data": {
      "image/png": "[encoded data removed]",
      "text/plain": [
       "<Figure size 432x288 with 1 Axes>"
      ]
     },
     "metadata": {
      "needs_background": "light"
     },
     "output_type": "display_data"
    },
    {
     "data": {
      "image/png": "[encoded data removed]",
      "text/plain": [
       "<Figure size 432x288 with 1 Axes>"
      ]
     },
     "metadata": {
      "needs_background": "light"
     },
     "output_type": "display_data"
    },
    {
     "data": {
      "image/png": "[encoded data removed]",
      "text/plain": [
       "<Figure size 432x288 with 1 Axes>"
      ]
     },
     "metadata": {
      "needs_background": "light"
     },
     "output_type": "display_data"
    },
    {
     "data": {
      "image/png": "[encoded data removed]",
      "text/plain": [
       "<Figure size 432x288 with 1 Axes>"
      ]
     },
     "metadata": {
      "needs_background": "light"
     },
     "output_type": "display_data"
    },
    {
     "data": {
      "image/png": "[encoded data removed]",
      "text/plain": [
       "<Figure size 432x288 with 1 Axes>"
      ]
     },
     "metadata": {
      "needs_background": "light"
     },
     "output_type": "display_data"
    },
    {
     "data": {
      "image/png": "[encoded data removed]",
      "text/plain": [
       "<Figure size 432x288 with 1 Axes>"
      ]
     },
     "metadata": {
      "needs_background": "light"
     },
     "output_type": "display_data"
    },
    {
     "data": {
      "image/png": "[encoded data removed]",
      "text/plain": [
       "<Figure size 432x288 with 1 Axes>"
      ]
     },
     "metadata": {
      "needs_background": "light"
     },
     "output_type": "display_data"
    }
   ],
   "source": [
    "data.plot(x='last_price', y='total_area', kind='scatter', alpha=0.2)\n",
    "data.plot(x='last_price', y='living_area', kind='scatter', alpha=0.2)\n",
    "data.plot(x='last_price', y='kitchen_area', kind='scatter', alpha=0.2)\n",
    "data.pivot_table(index='rooms',values='last_price').plot(y='last_price', kind='bar')\n",
    "data.pivot_table(index='day_of_week',values='last_price',aggfunc='median').plot(y='last_price', kind='line', title='median')\n",
    "data.pivot_table(index='month',values='last_price',aggfunc='median').plot(y='last_price', kind='line', title='median')\n",
    "data.pivot_table(index='year',values='last_price',aggfunc='median').plot(y='last_price', kind='line', title='median')"
   ]
  },
  {
   "cell_type": "markdown",
   "metadata": {},
   "source": [
    "Цена в большей мере зависит от:\n",
    "\n",
    "* общей площади\n",
    "* жилой площади\n",
    "* площади кухни\n",
    "* количества комнат\n",
    "\n",
    "\n",
    "Цена в меньшей мере зависит от:\n",
    "\n",
    "* даты размещения"
   ]
  },
  {
   "cell_type": "markdown",
   "metadata": {},
   "source": [
    "**Средняя цена одного квадратного метра в 10 населённых пунктах с наибольшим числом объявлений**"
   ]
  },
  {
   "cell_type": "code",
   "execution_count": 77,
   "metadata": {},
   "outputs": [
    {
     "data": {
      "text/plain": [
       "<AxesSubplot:ylabel='locality_name'>"
      ]
     },
     "execution_count": 77,
     "metadata": {},
     "output_type": "execute_result"
    },
    {
     "data": {
      "image/png": "[encoded data removed]",
      "text/plain": [
       "<Figure size 432x288 with 1 Axes>"
      ]
     },
     "metadata": {
      "needs_background": "light"
     },
     "output_type": "display_data"
    }
   ],
   "source": [
    "top_10 = data.pivot_table(index='locality_name', values=['last_price','total_area'] ,aggfunc=['sum','count'])\n",
    "top_10.columns=['last_price_sum','total_area_sum','last_price_count','total_area_count']\n",
    "top_10.pop('total_area_count')\n",
    "top_10.sort_values(by=['last_price_count'],ascending=False, inplace=True)\n",
    "top_10 = top_10.iloc[:10]\n",
    "top_10['cost_m2'] = top_10['last_price_sum']/top_10['total_area_sum']\n",
    "top_10.sort_values(by=['cost_m2'],ascending=True, inplace=True)\n",
    "top_10['cost_m2'].plot(kind='barh')"
   ]
  },
  {
   "cell_type": "code",
   "execution_count": 78,
   "metadata": {},
   "outputs": [
    {
     "data": {
      "text/plain": [
       "79736.69141111214"
      ]
     },
     "execution_count": 78,
     "metadata": {},
     "output_type": "execute_result"
    }
   ],
   "source": [
    "#Средняя цена за квадратный метр в 10 населённых пунктах с наибольшим числом объявлений\n",
    "top_10['cost_m2'].median()"
   ]
  },
  {
   "cell_type": "markdown",
   "metadata": {},
   "source": [
    "Средняя цена за квадратный метр в 10 населённых пунктах с наибольшим числом объявлений составляет 79 736,7. Наибольшее число объявлений оказалось в Санкт-Петербурге."
   ]
  },
  {
   "cell_type": "markdown",
   "metadata": {},
   "source": [
    "**Средняя цена каждого километра**"
   ]
  },
  {
   "cell_type": "code",
   "execution_count": 79,
   "metadata": {},
   "outputs": [
    {
     "data": {
      "text/plain": [
       "<AxesSubplot:xlabel='city_centers_nearest'>"
      ]
     },
     "execution_count": 79,
     "metadata": {},
     "output_type": "execute_result"
    },
    {
     "data": {
      "image/png": "[encoded data removed]",
      "text/plain": [
       "<Figure size 432x288 with 1 Axes>"
      ]
     },
     "metadata": {
      "needs_background": "light"
     },
     "output_type": "display_data"
    }
   ],
   "source": [
    "data[data['locality_name']=='санкт-петербург']\\\n",
    "    .pivot_table(\\\n",
    "        index='city_centers_nearest',\\\n",
    "        values='last_price',\\\n",
    "        aggfunc='mean')\\\n",
    "    .plot(kind='bar')"
   ]
  },
  {
   "cell_type": "markdown",
   "metadata": {},
   "source": [
    "Лидирует недвижимость до 1км. Цены на недвижимость на расстоянии от 1 км до 7 км падают. Далее цена начинает ещё больше падать от 8 км до 27 км. На 27км стоимость резко повышается, возможно этро связано с какой-тодостопримечательностью или районом."
   ]
  },
  {
   "cell_type": "markdown",
   "metadata": {},
   "source": [
    "**Вывод по пункту:**\n",
    "\n",
    "В данном пункте мя провели исследовательский анализ данных. Изучили и описали следующие параметры:\n",
    "  - общая площадь;\n",
    "  - жилая площадь;\n",
    "  - площадь кухни;\n",
    "  - цена объекта;\n",
    "  - количество комнат;\n",
    "  - высота потолков;\n",
    "  - этаж квартиры;\n",
    "  - тип этажа квартиры («первый», «последний», «другой»);\n",
    "  - общее количество этажей в доме;\n",
    "  - расстояние до центра города в метрах;\n",
    "  - расстояние до ближайшего аэропорта;\n",
    "  - расстояние до ближайшего парка;\n",
    "  - день и месяц публикации объявления\n",
    "  \n",
    "  Также выянили некоторые данные, такие как:\n",
    "  - Как быстро продавются квартиры (столбец days_exposition)\n",
    "  - Какие факторы больше всего влияют на общую (полную) стоимость объекта\n",
    "  - Средняя цена одного квадратного метра в 10 населённых пунктах с наибольшим числом объявлений\n",
    "  - Средняя цена каждого километра"
   ]
  },
  {
   "cell_type": "markdown",
   "metadata": {},
   "source": [
    "### Общий вывод"
   ]
  },
  {
   "cell_type": "markdown",
   "metadata": {},
   "source": [
    "Таким образом, мы провели исследование объявлений о продаже квартир. Нам был дан датафрейм с данными об объявлениях о квартирах, в которых мы могли изучить данные о площади квартиры, этаже, количестве этажей в доме, расстоянии от аэропорта, парки и водоемы рядом, площадь курни, цена и другое. Данные представлены в вещественных, целочисленных, строковых и булевых значениях. Были выведены гистограммы для визуального ознакомления с данными.\n",
    "\n",
    "После изучения данных мы избавились от пропусков, насколько это было возможно.Часть пропущенных данных была заполнена медианой, часть заполнена нулями. Некоторые данные были оставлены без изменения. \n",
    "\n",
    "Далее изменили типы данных. В основном, изменение типа данных необходимо для экономии памяти. Только в случае с first_day_exposition это необходимо для дальнейшего удобство в работе с данными.\n",
    "\n",
    "Столбцы, которых изменили тип данных:\n",
    "\n",
    "* last_price - int64\n",
    "* first_day_exposition - date\n",
    "* floors_total - int8\n",
    "* is_apartment - bool\n",
    "* balcony - int8\n",
    "* days_exposition - int64\n",
    "\n",
    "Были удалены дубликаты, в частности, в столбце название населенного пункта.\n",
    "Убрали редкие и выбивающиеся значения с помощью выведения распределение значений в данных. Аномалии были выявлены и удалены в следующих столбцах:\n",
    "\n",
    "* last_price\n",
    "* total_area\n",
    "* rooms\n",
    "* ceiling_height\n",
    "* floors_total\n",
    "* living_area\n",
    "* kitchen_area\n",
    "* days_exposition\n",
    "* airports_nearest\n",
    "\n",
    "Также добавили и посчитали новые столбцы, такие как:\n",
    "\n",
    "* цена одного квадратного метра, \n",
    "* день публикации объявления\n",
    "* месяц публикации объявления\n",
    "* год публикации объявления\n",
    "* тип этажа квартиры\n",
    "* расстояние в км до центра города\n",
    "\n",
    "Был проведен исследовательский анализ данных. С помощью гистограмм были определены следующие пиковые параметры:\n",
    "\n",
    "* общая площадь от 40,0 м² до 68,3 м².\n",
    "* жилая площадь от 23,2 м² до 41,0 м².\n",
    "* площадь кухни от 7,3 м² до 11,4 м².\n",
    "* цена объекта от 3,49 млн руб. до 6,70 млн руб.\n",
    "* количество комнат от 1 до 3.\n",
    "* высота потолков от 2,50 м до 2,80 м.\n",
    "* этаж квартиры от 2 до 8 этажей.\n",
    "* тип этажа квартиры на первом и не на последнем этаже\n",
    "* общее количество этажей в доме от 5 до 16.\n",
    "* расстояние до центра города от 9241 м до 16293 м.\n",
    "* расстояние до ближайшего аэропорта от 288 м до 612 м.\n",
    "* расстояние до ближайшего парка от 40,0 м² до 68,3 м².\n",
    "* день публикации объявления вторник и четверг (также в основном будни)\n",
    "* месяц публикации объявления февраль, март, апрель и ноябрь\n",
    "\n",
    "Выявили среднее время продажи квартиры, которое составляет 171 день. Но если взять медиану - то это уже 93 дня. Это происходит из-за некоторых объявлений, когда квартиры продавались слишком долго. Скорее всего это объявления, у которых истек срок размещения или оно уже неактивно.\n",
    "\n",
    "Благодаря, проведенному исследованию можно точно сказать, что больше всего влияют на общую (полную) стоимость объекта следующие факторы:\n",
    "\n",
    "* общая площадь\n",
    "* жилая площадь\n",
    "* площадь кухни\n",
    "* количество комнат\n",
    "\n",
    "В меньшей мере цена зависит от даты размещения.\n",
    "\n",
    "Возможно, стоит ввести ограничения на форме ввода данных для устранения пропусков и ошибок.  Так, некоторые ячейки нельзя будет оставлять незаполненными, а в других будет возможность выбора данных. Это упростит процесс заполнения для пользователя и поможет не допускать в данных ошибки. \n"
   ]
  }
 ],
 "metadata": {
  "ExecuteTimeLog": [
   {
    "duration": 514,
    "start_time": "2023-03-13T06:47:41.077Z"
   },
   {
    "duration": 333,
    "start_time": "2023-03-13T06:47:49.203Z"
   },
   {
    "duration": 93,
    "start_time": "2023-03-13T06:48:01.977Z"
   },
   {
    "duration": 42,
    "start_time": "2023-03-13T06:48:06.548Z"
   },
   {
    "duration": 103,
    "start_time": "2023-03-13T06:49:34.351Z"
   },
   {
    "duration": 44,
    "start_time": "2023-03-13T06:49:44.758Z"
   },
   {
    "duration": 154,
    "start_time": "2023-03-13T06:54:55.106Z"
   },
   {
    "duration": 113,
    "start_time": "2023-03-13T06:56:41.526Z"
   },
   {
    "duration": 117,
    "start_time": "2023-03-13T06:57:54.214Z"
   },
   {
    "duration": 17,
    "start_time": "2023-03-13T06:58:03.227Z"
   },
   {
    "duration": 2546,
    "start_time": "2023-03-13T06:58:55.828Z"
   },
   {
    "duration": 1599,
    "start_time": "2023-03-13T06:59:06.106Z"
   },
   {
    "duration": 1824,
    "start_time": "2023-03-13T06:59:15.291Z"
   },
   {
    "duration": 1808,
    "start_time": "2023-03-13T06:59:23.634Z"
   },
   {
    "duration": 2257,
    "start_time": "2023-03-13T06:59:35.259Z"
   },
   {
    "duration": 4,
    "start_time": "2023-03-13T07:06:14.704Z"
   },
   {
    "duration": 14,
    "start_time": "2023-03-13T07:06:15.689Z"
   },
   {
    "duration": 127,
    "start_time": "2023-03-13T07:28:34.039Z"
   },
   {
    "duration": 110,
    "start_time": "2023-03-13T07:28:52.424Z"
   },
   {
    "duration": 45,
    "start_time": "2023-03-13T07:29:28.105Z"
   },
   {
    "duration": 38,
    "start_time": "2023-03-13T07:34:55.703Z"
   },
   {
    "duration": 715,
    "start_time": "2023-03-13T07:35:39.830Z"
   },
   {
    "duration": 39,
    "start_time": "2023-03-13T07:35:47.065Z"
   },
   {
    "duration": 7,
    "start_time": "2023-03-13T07:35:58.676Z"
   },
   {
    "duration": 59,
    "start_time": "2023-03-13T07:37:36.411Z"
   },
   {
    "duration": 10,
    "start_time": "2023-03-13T07:38:01.906Z"
   },
   {
    "duration": 10,
    "start_time": "2023-03-13T07:38:15.062Z"
   },
   {
    "duration": 10,
    "start_time": "2023-03-13T07:39:42.978Z"
   },
   {
    "duration": 23,
    "start_time": "2023-03-13T07:41:41.588Z"
   },
   {
    "duration": 50,
    "start_time": "2023-03-13T07:42:29.502Z"
   },
   {
    "duration": 86,
    "start_time": "2023-03-13T07:44:19.987Z"
   },
   {
    "duration": 18,
    "start_time": "2023-03-13T07:53:45.106Z"
   },
   {
    "duration": 24,
    "start_time": "2023-03-13T07:53:52.605Z"
   },
   {
    "duration": 35,
    "start_time": "2023-03-13T07:54:04.691Z"
   },
   {
    "duration": 22,
    "start_time": "2023-03-13T07:54:09.075Z"
   },
   {
    "duration": 15,
    "start_time": "2023-03-13T07:54:21.649Z"
   },
   {
    "duration": 102,
    "start_time": "2023-03-13T08:05:42.467Z"
   },
   {
    "duration": 54,
    "start_time": "2023-03-13T08:06:02.229Z"
   },
   {
    "duration": 5,
    "start_time": "2023-03-13T08:09:39.875Z"
   },
   {
    "duration": 50,
    "start_time": "2023-03-13T08:12:21.386Z"
   },
   {
    "duration": 7,
    "start_time": "2023-03-13T08:12:22.925Z"
   },
   {
    "duration": 7,
    "start_time": "2023-03-13T08:20:44.198Z"
   },
   {
    "duration": 110,
    "start_time": "2023-03-13T08:20:49.929Z"
   },
   {
    "duration": 23,
    "start_time": "2023-03-13T08:20:52.656Z"
   },
   {
    "duration": 2212,
    "start_time": "2023-03-13T08:20:54.644Z"
   },
   {
    "duration": 5,
    "start_time": "2023-03-13T08:21:01.718Z"
   },
   {
    "duration": 13,
    "start_time": "2023-03-13T08:21:03.338Z"
   },
   {
    "duration": 9,
    "start_time": "2023-03-13T08:21:28.775Z"
   },
   {
    "duration": 11,
    "start_time": "2023-03-13T08:21:31.210Z"
   },
   {
    "duration": 12,
    "start_time": "2023-03-13T08:22:31.460Z"
   },
   {
    "duration": 9,
    "start_time": "2023-03-13T08:23:17.878Z"
   },
   {
    "duration": 11,
    "start_time": "2023-03-13T08:23:19.875Z"
   },
   {
    "duration": 15,
    "start_time": "2023-03-13T08:23:29.905Z"
   },
   {
    "duration": 12,
    "start_time": "2023-03-13T08:23:37.380Z"
   },
   {
    "duration": 11,
    "start_time": "2023-03-13T08:23:49.653Z"
   },
   {
    "duration": 7,
    "start_time": "2023-03-13T08:26:05.971Z"
   },
   {
    "duration": 10,
    "start_time": "2023-03-13T08:26:07.088Z"
   },
   {
    "duration": 345,
    "start_time": "2023-03-13T08:26:37.938Z"
   },
   {
    "duration": 15,
    "start_time": "2023-03-13T08:26:49.503Z"
   },
   {
    "duration": 18,
    "start_time": "2023-03-13T08:26:54.225Z"
   },
   {
    "duration": 15,
    "start_time": "2023-03-13T08:26:57.523Z"
   },
   {
    "duration": 5,
    "start_time": "2023-03-13T08:27:03.675Z"
   },
   {
    "duration": 28,
    "start_time": "2023-03-13T08:27:22.093Z"
   },
   {
    "duration": 5,
    "start_time": "2023-03-13T08:27:58.114Z"
   },
   {
    "duration": 51,
    "start_time": "2023-03-13T08:28:57.421Z"
   },
   {
    "duration": 7,
    "start_time": "2023-03-13T08:28:59.574Z"
   },
   {
    "duration": 99,
    "start_time": "2023-03-13T08:31:40.891Z"
   },
   {
    "duration": 82,
    "start_time": "2023-03-13T08:36:32.623Z"
   },
   {
    "duration": 64,
    "start_time": "2023-03-13T08:40:38.898Z"
   },
   {
    "duration": 14,
    "start_time": "2023-03-13T08:42:33.634Z"
   },
   {
    "duration": 16,
    "start_time": "2023-03-13T08:43:25.232Z"
   },
   {
    "duration": 15,
    "start_time": "2023-03-13T08:43:26.486Z"
   },
   {
    "duration": 233,
    "start_time": "2023-03-13T08:45:03.163Z"
   },
   {
    "duration": 122,
    "start_time": "2023-03-13T08:45:23.357Z"
   },
   {
    "duration": 15,
    "start_time": "2023-03-13T08:45:23.489Z"
   },
   {
    "duration": 2175,
    "start_time": "2023-03-13T08:45:23.506Z"
   },
   {
    "duration": 9,
    "start_time": "2023-03-13T08:45:25.683Z"
   },
   {
    "duration": 15,
    "start_time": "2023-03-13T08:45:25.694Z"
   },
   {
    "duration": 8,
    "start_time": "2023-03-13T08:45:25.710Z"
   },
   {
    "duration": 12,
    "start_time": "2023-03-13T08:45:25.719Z"
   },
   {
    "duration": 14,
    "start_time": "2023-03-13T08:45:25.732Z"
   },
   {
    "duration": 52,
    "start_time": "2023-03-13T08:45:25.748Z"
   },
   {
    "duration": 14,
    "start_time": "2023-03-13T08:45:25.802Z"
   },
   {
    "duration": 6,
    "start_time": "2023-03-13T08:45:25.817Z"
   },
   {
    "duration": 75,
    "start_time": "2023-03-13T08:45:25.824Z"
   },
   {
    "duration": 7,
    "start_time": "2023-03-13T08:45:25.901Z"
   },
   {
    "duration": 119,
    "start_time": "2023-03-13T08:45:25.911Z"
   },
   {
    "duration": 11,
    "start_time": "2023-03-13T08:45:33.251Z"
   },
   {
    "duration": 224,
    "start_time": "2023-03-13T08:45:37.386Z"
   },
   {
    "duration": 17,
    "start_time": "2023-03-13T08:45:47.296Z"
   },
   {
    "duration": 314,
    "start_time": "2023-03-13T08:45:49.709Z"
   },
   {
    "duration": 9,
    "start_time": "2023-03-13T08:49:54.341Z"
   },
   {
    "duration": 12,
    "start_time": "2023-03-13T08:50:04.024Z"
   },
   {
    "duration": 34,
    "start_time": "2023-03-13T08:51:34.205Z"
   },
   {
    "duration": 218,
    "start_time": "2023-03-13T08:53:39.597Z"
   },
   {
    "duration": 16,
    "start_time": "2023-03-13T08:53:39.817Z"
   },
   {
    "duration": 233,
    "start_time": "2023-03-13T08:53:39.834Z"
   },
   {
    "duration": 143,
    "start_time": "2023-03-13T08:53:46.224Z"
   },
   {
    "duration": 29,
    "start_time": "2023-03-13T08:53:46.371Z"
   },
   {
    "duration": 2143,
    "start_time": "2023-03-13T08:53:46.402Z"
   },
   {
    "duration": 4,
    "start_time": "2023-03-13T08:53:48.547Z"
   },
   {
    "duration": 16,
    "start_time": "2023-03-13T08:53:48.553Z"
   },
   {
    "duration": 21,
    "start_time": "2023-03-13T08:53:48.571Z"
   },
   {
    "duration": 52,
    "start_time": "2023-03-13T08:53:48.593Z"
   },
   {
    "duration": 20,
    "start_time": "2023-03-13T08:53:48.646Z"
   },
   {
    "duration": 37,
    "start_time": "2023-03-13T08:53:48.667Z"
   },
   {
    "duration": 14,
    "start_time": "2023-03-13T08:53:48.706Z"
   },
   {
    "duration": 16,
    "start_time": "2023-03-13T08:53:48.721Z"
   },
   {
    "duration": 69,
    "start_time": "2023-03-13T08:53:48.738Z"
   },
   {
    "duration": 6,
    "start_time": "2023-03-13T08:53:48.809Z"
   },
   {
    "duration": 110,
    "start_time": "2023-03-13T08:53:48.818Z"
   },
   {
    "duration": 10,
    "start_time": "2023-03-13T08:53:48.930Z"
   },
   {
    "duration": 243,
    "start_time": "2023-03-13T08:54:01.077Z"
   },
   {
    "duration": 18,
    "start_time": "2023-03-13T08:54:31.452Z"
   },
   {
    "duration": 120,
    "start_time": "2023-03-13T08:54:47.984Z"
   },
   {
    "duration": 16,
    "start_time": "2023-03-13T08:54:48.106Z"
   },
   {
    "duration": 2108,
    "start_time": "2023-03-13T08:54:48.124Z"
   },
   {
    "duration": 3,
    "start_time": "2023-03-13T08:54:50.234Z"
   },
   {
    "duration": 46,
    "start_time": "2023-03-13T08:54:50.239Z"
   },
   {
    "duration": 29,
    "start_time": "2023-03-13T08:54:50.287Z"
   },
   {
    "duration": 20,
    "start_time": "2023-03-13T08:54:50.319Z"
   },
   {
    "duration": 30,
    "start_time": "2023-03-13T08:54:50.341Z"
   },
   {
    "duration": 28,
    "start_time": "2023-03-13T08:54:50.372Z"
   },
   {
    "duration": 53,
    "start_time": "2023-03-13T08:54:50.402Z"
   },
   {
    "duration": 38,
    "start_time": "2023-03-13T08:54:50.457Z"
   },
   {
    "duration": 80,
    "start_time": "2023-03-13T08:54:50.497Z"
   },
   {
    "duration": 8,
    "start_time": "2023-03-13T08:54:50.579Z"
   },
   {
    "duration": 117,
    "start_time": "2023-03-13T08:54:50.589Z"
   },
   {
    "duration": 10,
    "start_time": "2023-03-13T08:54:50.709Z"
   },
   {
    "duration": 269,
    "start_time": "2023-03-13T08:54:50.721Z"
   },
   {
    "duration": 120,
    "start_time": "2023-03-13T08:58:14.850Z"
   },
   {
    "duration": 33,
    "start_time": "2023-03-13T08:58:14.972Z"
   },
   {
    "duration": 2365,
    "start_time": "2023-03-13T08:58:15.007Z"
   },
   {
    "duration": 4,
    "start_time": "2023-03-13T08:58:17.373Z"
   },
   {
    "duration": 22,
    "start_time": "2023-03-13T08:58:17.380Z"
   },
   {
    "duration": 10,
    "start_time": "2023-03-13T08:58:17.405Z"
   },
   {
    "duration": 18,
    "start_time": "2023-03-13T08:58:17.416Z"
   },
   {
    "duration": 16,
    "start_time": "2023-03-13T08:58:17.436Z"
   },
   {
    "duration": 43,
    "start_time": "2023-03-13T08:58:17.454Z"
   },
   {
    "duration": 14,
    "start_time": "2023-03-13T08:58:17.498Z"
   },
   {
    "duration": 6,
    "start_time": "2023-03-13T08:58:17.514Z"
   },
   {
    "duration": 76,
    "start_time": "2023-03-13T08:58:17.521Z"
   },
   {
    "duration": 7,
    "start_time": "2023-03-13T08:58:17.599Z"
   },
   {
    "duration": 95,
    "start_time": "2023-03-13T08:58:21.147Z"
   },
   {
    "duration": 9,
    "start_time": "2023-03-13T08:58:27.471Z"
   },
   {
    "duration": 10,
    "start_time": "2023-03-13T08:58:38.149Z"
   },
   {
    "duration": 21,
    "start_time": "2023-03-13T08:58:50.791Z"
   },
   {
    "duration": 121,
    "start_time": "2023-03-13T08:59:01.751Z"
   },
   {
    "duration": 21,
    "start_time": "2023-03-13T08:59:01.874Z"
   },
   {
    "duration": 2243,
    "start_time": "2023-03-13T08:59:01.896Z"
   },
   {
    "duration": 4,
    "start_time": "2023-03-13T08:59:04.142Z"
   },
   {
    "duration": 17,
    "start_time": "2023-03-13T08:59:04.148Z"
   },
   {
    "duration": 23,
    "start_time": "2023-03-13T08:59:04.167Z"
   },
   {
    "duration": 22,
    "start_time": "2023-03-13T08:59:04.192Z"
   },
   {
    "duration": 18,
    "start_time": "2023-03-13T08:59:04.216Z"
   },
   {
    "duration": 27,
    "start_time": "2023-03-13T08:59:04.237Z"
   },
   {
    "duration": 43,
    "start_time": "2023-03-13T08:59:04.268Z"
   },
   {
    "duration": 7,
    "start_time": "2023-03-13T08:59:04.313Z"
   },
   {
    "duration": 69,
    "start_time": "2023-03-13T08:59:04.322Z"
   },
   {
    "duration": 7,
    "start_time": "2023-03-13T08:59:04.393Z"
   },
   {
    "duration": 146,
    "start_time": "2023-03-13T08:59:04.402Z"
   },
   {
    "duration": 103,
    "start_time": "2023-03-13T08:59:04.551Z"
   },
   {
    "duration": 240,
    "start_time": "2023-03-13T08:59:04.656Z"
   },
   {
    "duration": 18,
    "start_time": "2023-03-13T08:59:04.899Z"
   },
   {
    "duration": 49,
    "start_time": "2023-03-13T08:59:28.406Z"
   },
   {
    "duration": 217,
    "start_time": "2023-03-13T09:00:53.170Z"
   },
   {
    "duration": 221,
    "start_time": "2023-03-13T09:01:01.731Z"
   },
   {
    "duration": 115,
    "start_time": "2023-03-13T09:01:07.703Z"
   },
   {
    "duration": 15,
    "start_time": "2023-03-13T09:01:07.820Z"
   },
   {
    "duration": 2082,
    "start_time": "2023-03-13T09:01:07.837Z"
   },
   {
    "duration": 3,
    "start_time": "2023-03-13T09:01:09.921Z"
   },
   {
    "duration": 22,
    "start_time": "2023-03-13T09:01:09.926Z"
   },
   {
    "duration": 31,
    "start_time": "2023-03-13T09:01:09.950Z"
   },
   {
    "duration": 30,
    "start_time": "2023-03-13T09:01:09.983Z"
   },
   {
    "duration": 29,
    "start_time": "2023-03-13T09:01:10.015Z"
   },
   {
    "duration": 20,
    "start_time": "2023-03-13T09:01:10.046Z"
   },
   {
    "duration": 15,
    "start_time": "2023-03-13T09:01:10.068Z"
   },
   {
    "duration": 5,
    "start_time": "2023-03-13T09:01:10.085Z"
   },
   {
    "duration": 54,
    "start_time": "2023-03-13T09:01:10.092Z"
   },
   {
    "duration": 7,
    "start_time": "2023-03-13T09:01:10.148Z"
   },
   {
    "duration": 108,
    "start_time": "2023-03-13T09:01:10.158Z"
   },
   {
    "duration": 9,
    "start_time": "2023-03-13T09:01:10.268Z"
   },
   {
    "duration": 216,
    "start_time": "2023-03-13T09:01:23.960Z"
   },
   {
    "duration": 16,
    "start_time": "2023-03-13T09:02:18.142Z"
   },
   {
    "duration": 11,
    "start_time": "2023-03-13T09:02:25.966Z"
   },
   {
    "duration": 10,
    "start_time": "2023-03-13T09:06:39.502Z"
   },
   {
    "duration": 11,
    "start_time": "2023-03-13T09:06:42.077Z"
   },
   {
    "duration": 12,
    "start_time": "2023-03-13T09:07:02.523Z"
   },
   {
    "duration": 12,
    "start_time": "2023-03-13T09:11:27.183Z"
   },
   {
    "duration": 28,
    "start_time": "2023-03-13T09:38:44.717Z"
   },
   {
    "duration": 54,
    "start_time": "2023-03-13T09:41:16.996Z"
   },
   {
    "duration": 20,
    "start_time": "2023-03-13T09:41:24.183Z"
   },
   {
    "duration": 19,
    "start_time": "2023-03-13T09:41:45.603Z"
   },
   {
    "duration": 16,
    "start_time": "2023-03-13T09:47:47.625Z"
   },
   {
    "duration": 17,
    "start_time": "2023-03-13T09:48:25.968Z"
   },
   {
    "duration": 45,
    "start_time": "2023-03-13T09:54:09.063Z"
   },
   {
    "duration": 57,
    "start_time": "2023-03-13T09:54:16.863Z"
   },
   {
    "duration": 25,
    "start_time": "2023-03-13T09:54:24.324Z"
   },
   {
    "duration": 117,
    "start_time": "2023-03-13T09:59:33.830Z"
   },
   {
    "duration": 16,
    "start_time": "2023-03-13T09:59:33.949Z"
   },
   {
    "duration": 2164,
    "start_time": "2023-03-13T09:59:33.966Z"
   },
   {
    "duration": 4,
    "start_time": "2023-03-13T09:59:36.132Z"
   },
   {
    "duration": 18,
    "start_time": "2023-03-13T09:59:36.138Z"
   },
   {
    "duration": 8,
    "start_time": "2023-03-13T09:59:36.157Z"
   },
   {
    "duration": 25,
    "start_time": "2023-03-13T09:59:36.166Z"
   },
   {
    "duration": 16,
    "start_time": "2023-03-13T09:59:36.192Z"
   },
   {
    "duration": 19,
    "start_time": "2023-03-13T09:59:36.210Z"
   },
   {
    "duration": 16,
    "start_time": "2023-03-13T09:59:36.232Z"
   },
   {
    "duration": 5,
    "start_time": "2023-03-13T09:59:36.250Z"
   },
   {
    "duration": 85,
    "start_time": "2023-03-13T09:59:36.257Z"
   },
   {
    "duration": 7,
    "start_time": "2023-03-13T09:59:36.344Z"
   },
   {
    "duration": 141,
    "start_time": "2023-03-13T09:59:36.353Z"
   },
   {
    "duration": 18,
    "start_time": "2023-03-13T09:59:36.496Z"
   },
   {
    "duration": 41,
    "start_time": "2023-03-13T09:59:36.516Z"
   },
   {
    "duration": 15,
    "start_time": "2023-03-13T09:59:36.559Z"
   },
   {
    "duration": 14,
    "start_time": "2023-03-13T09:59:36.591Z"
   },
   {
    "duration": 37,
    "start_time": "2023-03-13T09:59:36.607Z"
   },
   {
    "duration": 15,
    "start_time": "2023-03-13T09:59:36.646Z"
   },
   {
    "duration": 53,
    "start_time": "2023-03-13T09:59:36.664Z"
   },
   {
    "duration": 29,
    "start_time": "2023-03-13T09:59:36.719Z"
   },
   {
    "duration": 8,
    "start_time": "2023-03-13T09:59:36.749Z"
   },
   {
    "duration": 37,
    "start_time": "2023-03-13T09:59:36.758Z"
   },
   {
    "duration": 14,
    "start_time": "2023-03-13T10:04:34.539Z"
   },
   {
    "duration": 119,
    "start_time": "2023-03-13T10:09:15.221Z"
   },
   {
    "duration": 17,
    "start_time": "2023-03-13T10:09:15.341Z"
   },
   {
    "duration": 2314,
    "start_time": "2023-03-13T10:09:15.361Z"
   },
   {
    "duration": 3,
    "start_time": "2023-03-13T10:09:17.677Z"
   },
   {
    "duration": 17,
    "start_time": "2023-03-13T10:09:17.683Z"
   },
   {
    "duration": 7,
    "start_time": "2023-03-13T10:09:17.702Z"
   },
   {
    "duration": 11,
    "start_time": "2023-03-13T10:09:17.711Z"
   },
   {
    "duration": 14,
    "start_time": "2023-03-13T10:09:17.724Z"
   },
   {
    "duration": 59,
    "start_time": "2023-03-13T10:09:17.740Z"
   },
   {
    "duration": 16,
    "start_time": "2023-03-13T10:09:17.801Z"
   },
   {
    "duration": 5,
    "start_time": "2023-03-13T10:09:17.820Z"
   },
   {
    "duration": 74,
    "start_time": "2023-03-13T10:09:17.827Z"
   },
   {
    "duration": 9,
    "start_time": "2023-03-13T10:09:17.902Z"
   },
   {
    "duration": 114,
    "start_time": "2023-03-13T10:09:17.916Z"
   },
   {
    "duration": 12,
    "start_time": "2023-03-13T10:09:18.032Z"
   },
   {
    "duration": 18,
    "start_time": "2023-03-13T10:09:18.047Z"
   },
   {
    "duration": 28,
    "start_time": "2023-03-13T10:09:18.067Z"
   },
   {
    "duration": 11,
    "start_time": "2023-03-13T10:09:18.097Z"
   },
   {
    "duration": 20,
    "start_time": "2023-03-13T10:09:18.110Z"
   },
   {
    "duration": 10,
    "start_time": "2023-03-13T10:09:18.131Z"
   },
   {
    "duration": 66,
    "start_time": "2023-03-13T10:09:18.143Z"
   },
   {
    "duration": 26,
    "start_time": "2023-03-13T10:09:18.211Z"
   },
   {
    "duration": 8,
    "start_time": "2023-03-13T10:09:18.239Z"
   },
   {
    "duration": 17,
    "start_time": "2023-03-13T10:09:18.248Z"
   },
   {
    "duration": 30,
    "start_time": "2023-03-13T10:09:18.266Z"
   },
   {
    "duration": 17,
    "start_time": "2023-03-13T10:09:18.297Z"
   },
   {
    "duration": 11,
    "start_time": "2023-03-13T10:09:18.315Z"
   },
   {
    "duration": 16,
    "start_time": "2023-03-13T10:09:18.327Z"
   },
   {
    "duration": 7,
    "start_time": "2023-03-13T10:09:18.345Z"
   },
   {
    "duration": 42,
    "start_time": "2023-03-13T10:09:18.354Z"
   },
   {
    "duration": 10,
    "start_time": "2023-03-13T10:09:18.398Z"
   },
   {
    "duration": 10,
    "start_time": "2023-03-13T10:09:18.410Z"
   },
   {
    "duration": 3,
    "start_time": "2023-03-13T10:09:18.422Z"
   },
   {
    "duration": 97,
    "start_time": "2023-03-13T10:10:01.014Z"
   },
   {
    "duration": 5,
    "start_time": "2023-03-13T10:22:10.571Z"
   },
   {
    "duration": 7,
    "start_time": "2023-03-13T10:22:11.362Z"
   },
   {
    "duration": 6,
    "start_time": "2023-03-13T10:22:12.206Z"
   },
   {
    "duration": 6,
    "start_time": "2023-03-13T10:22:12.643Z"
   },
   {
    "duration": 352,
    "start_time": "2023-03-13T10:22:13.131Z"
   },
   {
    "duration": 5,
    "start_time": "2023-03-13T10:22:13.904Z"
   },
   {
    "duration": 30,
    "start_time": "2023-03-13T10:22:30.636Z"
   },
   {
    "duration": 206,
    "start_time": "2023-03-13T11:04:25.370Z"
   },
   {
    "duration": 281,
    "start_time": "2023-03-13T11:04:38.557Z"
   },
   {
    "duration": 186,
    "start_time": "2023-03-13T11:05:44.966Z"
   },
   {
    "duration": 184,
    "start_time": "2023-03-13T11:06:14.854Z"
   },
   {
    "duration": 146,
    "start_time": "2023-03-13T11:06:45.536Z"
   },
   {
    "duration": 184,
    "start_time": "2023-03-13T11:06:48.999Z"
   },
   {
    "duration": 251,
    "start_time": "2023-03-13T11:31:27.146Z"
   },
   {
    "duration": 27,
    "start_time": "2023-03-13T11:31:44.520Z"
   },
   {
    "duration": 85,
    "start_time": "2023-03-13T11:32:07.332Z"
   },
   {
    "duration": 16,
    "start_time": "2023-03-13T11:32:14.358Z"
   },
   {
    "duration": 233,
    "start_time": "2023-03-13T11:32:40.711Z"
   },
   {
    "duration": 199,
    "start_time": "2023-03-13T11:32:55.614Z"
   },
   {
    "duration": 214,
    "start_time": "2023-03-13T11:33:02.362Z"
   },
   {
    "duration": 256,
    "start_time": "2023-03-13T11:33:16.615Z"
   },
   {
    "duration": 11,
    "start_time": "2023-03-13T11:33:42.026Z"
   },
   {
    "duration": 9,
    "start_time": "2023-03-13T11:39:48.587Z"
   },
   {
    "duration": 124,
    "start_time": "2023-03-13T11:45:07.544Z"
   },
   {
    "duration": 33,
    "start_time": "2023-03-13T11:45:07.670Z"
   },
   {
    "duration": 2245,
    "start_time": "2023-03-13T11:45:07.706Z"
   },
   {
    "duration": 3,
    "start_time": "2023-03-13T11:45:09.953Z"
   },
   {
    "duration": 16,
    "start_time": "2023-03-13T11:45:09.960Z"
   },
   {
    "duration": 9,
    "start_time": "2023-03-13T11:45:09.990Z"
   },
   {
    "duration": 33,
    "start_time": "2023-03-13T11:45:10.001Z"
   },
   {
    "duration": 19,
    "start_time": "2023-03-13T11:45:10.037Z"
   },
   {
    "duration": 19,
    "start_time": "2023-03-13T11:45:10.059Z"
   },
   {
    "duration": 41,
    "start_time": "2023-03-13T11:45:10.080Z"
   },
   {
    "duration": 5,
    "start_time": "2023-03-13T11:45:10.123Z"
   },
   {
    "duration": 55,
    "start_time": "2023-03-13T11:45:10.130Z"
   },
   {
    "duration": 20,
    "start_time": "2023-03-13T11:45:10.187Z"
   },
   {
    "duration": 100,
    "start_time": "2023-03-13T11:45:10.210Z"
   },
   {
    "duration": 15,
    "start_time": "2023-03-13T11:45:10.312Z"
   },
   {
    "duration": 20,
    "start_time": "2023-03-13T11:45:10.328Z"
   },
   {
    "duration": 11,
    "start_time": "2023-03-13T11:45:10.349Z"
   },
   {
    "duration": 42,
    "start_time": "2023-03-13T11:45:10.361Z"
   },
   {
    "duration": 31,
    "start_time": "2023-03-13T11:45:10.405Z"
   },
   {
    "duration": 15,
    "start_time": "2023-03-13T11:45:10.440Z"
   },
   {
    "duration": 21,
    "start_time": "2023-03-13T11:45:10.456Z"
   },
   {
    "duration": 35,
    "start_time": "2023-03-13T11:45:10.479Z"
   },
   {
    "duration": 9,
    "start_time": "2023-03-13T11:45:10.516Z"
   },
   {
    "duration": 14,
    "start_time": "2023-03-13T11:45:10.527Z"
   },
   {
    "duration": 14,
    "start_time": "2023-03-13T11:45:10.543Z"
   },
   {
    "duration": 45,
    "start_time": "2023-03-13T11:45:10.559Z"
   },
   {
    "duration": 11,
    "start_time": "2023-03-13T11:45:10.606Z"
   },
   {
    "duration": 15,
    "start_time": "2023-03-13T11:45:10.619Z"
   },
   {
    "duration": 7,
    "start_time": "2023-03-13T11:45:10.636Z"
   },
   {
    "duration": 11,
    "start_time": "2023-03-13T11:45:10.645Z"
   },
   {
    "duration": 8,
    "start_time": "2023-03-13T11:45:10.657Z"
   },
   {
    "duration": 15,
    "start_time": "2023-03-13T11:45:10.690Z"
   },
   {
    "duration": 7,
    "start_time": "2023-03-13T11:45:10.707Z"
   },
   {
    "duration": 101,
    "start_time": "2023-03-13T11:45:10.716Z"
   },
   {
    "duration": 5,
    "start_time": "2023-03-13T11:45:10.818Z"
   },
   {
    "duration": 10,
    "start_time": "2023-03-13T11:45:10.825Z"
   },
   {
    "duration": 8,
    "start_time": "2023-03-13T11:45:10.836Z"
   },
   {
    "duration": 6,
    "start_time": "2023-03-13T11:45:10.846Z"
   },
   {
    "duration": 468,
    "start_time": "2023-03-13T11:45:10.854Z"
   },
   {
    "duration": 4,
    "start_time": "2023-03-13T11:45:11.324Z"
   },
   {
    "duration": 28,
    "start_time": "2023-03-13T11:45:11.332Z"
   },
   {
    "duration": 211,
    "start_time": "2023-03-13T11:45:11.361Z"
   },
   {
    "duration": 20,
    "start_time": "2023-03-13T11:45:11.574Z"
   },
   {
    "duration": 224,
    "start_time": "2023-03-13T11:45:11.599Z"
   },
   {
    "duration": 9,
    "start_time": "2023-03-13T11:45:11.825Z"
   },
   {
    "duration": 214,
    "start_time": "2023-03-13T11:45:11.836Z"
   },
   {
    "duration": 18,
    "start_time": "2023-03-13T11:45:12.053Z"
   },
   {
    "duration": 232,
    "start_time": "2023-03-13T11:45:12.076Z"
   },
   {
    "duration": 9,
    "start_time": "2023-03-13T11:45:12.310Z"
   },
   {
    "duration": 240,
    "start_time": "2023-03-13T11:45:12.320Z"
   },
   {
    "duration": 10,
    "start_time": "2023-03-13T11:45:12.562Z"
   },
   {
    "duration": 211,
    "start_time": "2023-03-13T11:45:12.573Z"
   },
   {
    "duration": 16,
    "start_time": "2023-03-13T11:45:12.786Z"
   },
   {
    "duration": 216,
    "start_time": "2023-03-13T11:45:12.806Z"
   },
   {
    "duration": 9,
    "start_time": "2023-03-13T11:45:13.024Z"
   },
   {
    "duration": 13,
    "start_time": "2023-03-13T11:45:13.035Z"
   },
   {
    "duration": 0,
    "start_time": "2023-03-13T11:45:13.050Z"
   },
   {
    "duration": 0,
    "start_time": "2023-03-13T11:45:13.051Z"
   },
   {
    "duration": 0,
    "start_time": "2023-03-13T11:45:13.052Z"
   },
   {
    "duration": 0,
    "start_time": "2023-03-13T11:45:13.053Z"
   },
   {
    "duration": 0,
    "start_time": "2023-03-13T11:45:13.054Z"
   },
   {
    "duration": 0,
    "start_time": "2023-03-13T11:45:13.055Z"
   },
   {
    "duration": 0,
    "start_time": "2023-03-13T11:45:13.057Z"
   },
   {
    "duration": 0,
    "start_time": "2023-03-13T11:45:13.058Z"
   },
   {
    "duration": 0,
    "start_time": "2023-03-13T11:45:13.090Z"
   },
   {
    "duration": 1,
    "start_time": "2023-03-13T11:45:13.091Z"
   },
   {
    "duration": 0,
    "start_time": "2023-03-13T11:45:13.092Z"
   },
   {
    "duration": 0,
    "start_time": "2023-03-13T11:45:13.093Z"
   },
   {
    "duration": 0,
    "start_time": "2023-03-13T11:45:13.094Z"
   },
   {
    "duration": 13,
    "start_time": "2023-03-13T11:47:22.561Z"
   },
   {
    "duration": 4,
    "start_time": "2023-03-13T11:47:54.226Z"
   },
   {
    "duration": 40,
    "start_time": "2023-03-13T11:47:55.431Z"
   },
   {
    "duration": 207,
    "start_time": "2023-03-13T11:51:01.245Z"
   },
   {
    "duration": 13,
    "start_time": "2023-03-13T11:51:14.888Z"
   },
   {
    "duration": 284,
    "start_time": "2023-03-13T11:51:25.779Z"
   },
   {
    "duration": 10,
    "start_time": "2023-03-13T11:51:31.344Z"
   },
   {
    "duration": 110,
    "start_time": "2023-03-13T11:51:35.608Z"
   },
   {
    "duration": 14,
    "start_time": "2023-03-13T11:51:35.720Z"
   },
   {
    "duration": 2075,
    "start_time": "2023-03-13T11:51:35.735Z"
   },
   {
    "duration": 3,
    "start_time": "2023-03-13T11:51:37.812Z"
   },
   {
    "duration": 19,
    "start_time": "2023-03-13T11:51:37.817Z"
   },
   {
    "duration": 16,
    "start_time": "2023-03-13T11:51:37.838Z"
   },
   {
    "duration": 31,
    "start_time": "2023-03-13T11:51:37.856Z"
   },
   {
    "duration": 13,
    "start_time": "2023-03-13T11:51:37.888Z"
   },
   {
    "duration": 19,
    "start_time": "2023-03-13T11:51:37.903Z"
   },
   {
    "duration": 14,
    "start_time": "2023-03-13T11:51:37.925Z"
   },
   {
    "duration": 5,
    "start_time": "2023-03-13T11:51:37.941Z"
   },
   {
    "duration": 77,
    "start_time": "2023-03-13T11:51:37.947Z"
   },
   {
    "duration": 7,
    "start_time": "2023-03-13T11:51:38.026Z"
   },
   {
    "duration": 99,
    "start_time": "2023-03-13T11:51:38.035Z"
   },
   {
    "duration": 11,
    "start_time": "2023-03-13T11:51:38.136Z"
   },
   {
    "duration": 29,
    "start_time": "2023-03-13T11:51:38.149Z"
   },
   {
    "duration": 19,
    "start_time": "2023-03-13T11:51:38.180Z"
   },
   {
    "duration": 10,
    "start_time": "2023-03-13T11:51:38.200Z"
   },
   {
    "duration": 27,
    "start_time": "2023-03-13T11:51:38.212Z"
   },
   {
    "duration": 18,
    "start_time": "2023-03-13T11:51:38.241Z"
   },
   {
    "duration": 49,
    "start_time": "2023-03-13T11:51:38.260Z"
   },
   {
    "duration": 24,
    "start_time": "2023-03-13T11:51:38.311Z"
   },
   {
    "duration": 7,
    "start_time": "2023-03-13T11:51:38.337Z"
   },
   {
    "duration": 33,
    "start_time": "2023-03-13T11:51:38.346Z"
   },
   {
    "duration": 28,
    "start_time": "2023-03-13T11:51:38.381Z"
   },
   {
    "duration": 26,
    "start_time": "2023-03-13T11:51:38.410Z"
   },
   {
    "duration": 14,
    "start_time": "2023-03-13T11:51:38.438Z"
   },
   {
    "duration": 15,
    "start_time": "2023-03-13T11:51:38.456Z"
   },
   {
    "duration": 22,
    "start_time": "2023-03-13T11:51:38.473Z"
   },
   {
    "duration": 18,
    "start_time": "2023-03-13T11:51:38.497Z"
   },
   {
    "duration": 24,
    "start_time": "2023-03-13T11:51:38.517Z"
   },
   {
    "duration": 25,
    "start_time": "2023-03-13T11:51:38.543Z"
   },
   {
    "duration": 20,
    "start_time": "2023-03-13T11:51:38.570Z"
   },
   {
    "duration": 99,
    "start_time": "2023-03-13T11:51:38.592Z"
   },
   {
    "duration": 4,
    "start_time": "2023-03-13T11:51:38.693Z"
   },
   {
    "duration": 20,
    "start_time": "2023-03-13T11:51:38.698Z"
   },
   {
    "duration": 14,
    "start_time": "2023-03-13T11:51:38.720Z"
   },
   {
    "duration": 18,
    "start_time": "2023-03-13T11:51:38.735Z"
   },
   {
    "duration": 411,
    "start_time": "2023-03-13T11:51:38.754Z"
   },
   {
    "duration": 4,
    "start_time": "2023-03-13T11:51:39.167Z"
   },
   {
    "duration": 35,
    "start_time": "2023-03-13T11:51:39.172Z"
   },
   {
    "duration": 190,
    "start_time": "2023-03-13T11:51:39.209Z"
   },
   {
    "duration": 9,
    "start_time": "2023-03-13T11:51:39.400Z"
   },
   {
    "duration": 227,
    "start_time": "2023-03-13T11:51:39.410Z"
   },
   {
    "duration": 10,
    "start_time": "2023-03-13T11:51:39.639Z"
   },
   {
    "duration": 205,
    "start_time": "2023-03-13T11:51:39.650Z"
   },
   {
    "duration": 10,
    "start_time": "2023-03-13T11:51:39.856Z"
   },
   {
    "duration": 223,
    "start_time": "2023-03-13T11:51:39.867Z"
   },
   {
    "duration": 9,
    "start_time": "2023-03-13T11:51:40.091Z"
   },
   {
    "duration": 210,
    "start_time": "2023-03-13T11:51:40.101Z"
   },
   {
    "duration": 8,
    "start_time": "2023-03-13T11:51:40.313Z"
   },
   {
    "duration": 206,
    "start_time": "2023-03-13T11:51:40.322Z"
   },
   {
    "duration": 11,
    "start_time": "2023-03-13T11:51:40.529Z"
   },
   {
    "duration": 299,
    "start_time": "2023-03-13T11:51:40.541Z"
   },
   {
    "duration": 9,
    "start_time": "2023-03-13T11:51:40.842Z"
   },
   {
    "duration": 202,
    "start_time": "2023-03-13T11:51:40.853Z"
   },
   {
    "duration": 9,
    "start_time": "2023-03-13T11:51:41.057Z"
   },
   {
    "duration": 206,
    "start_time": "2023-03-13T11:51:41.068Z"
   },
   {
    "duration": 27,
    "start_time": "2023-03-13T11:51:41.276Z"
   },
   {
    "duration": 198,
    "start_time": "2023-03-13T11:51:41.304Z"
   },
   {
    "duration": 10,
    "start_time": "2023-03-13T11:51:41.504Z"
   },
   {
    "duration": 207,
    "start_time": "2023-03-13T11:51:41.515Z"
   },
   {
    "duration": 9,
    "start_time": "2023-03-13T11:51:41.724Z"
   },
   {
    "duration": 194,
    "start_time": "2023-03-13T11:51:41.735Z"
   },
   {
    "duration": 10,
    "start_time": "2023-03-13T11:51:41.931Z"
   },
   {
    "duration": 13,
    "start_time": "2023-03-13T11:51:41.942Z"
   },
   {
    "duration": 0,
    "start_time": "2023-03-13T11:51:41.957Z"
   },
   {
    "duration": 0,
    "start_time": "2023-03-13T11:51:41.958Z"
   },
   {
    "duration": 0,
    "start_time": "2023-03-13T11:51:41.959Z"
   },
   {
    "duration": 735,
    "start_time": "2023-03-13T11:52:09.285Z"
   },
   {
    "duration": 9,
    "start_time": "2023-03-13T11:52:42.622Z"
   },
   {
    "duration": 203,
    "start_time": "2023-03-13T11:52:45.728Z"
   },
   {
    "duration": 210,
    "start_time": "2023-03-13T11:52:52.502Z"
   },
   {
    "duration": 184,
    "start_time": "2023-03-13T11:53:16.839Z"
   },
   {
    "duration": 12,
    "start_time": "2023-03-13T11:53:17.909Z"
   },
   {
    "duration": 44,
    "start_time": "2023-03-13T13:39:48.460Z"
   },
   {
    "duration": 962,
    "start_time": "2023-03-13T13:39:54.396Z"
   },
   {
    "duration": 14,
    "start_time": "2023-03-13T13:39:55.360Z"
   },
   {
    "duration": 1951,
    "start_time": "2023-03-13T13:39:55.376Z"
   },
   {
    "duration": 3,
    "start_time": "2023-03-13T13:39:57.329Z"
   },
   {
    "duration": 15,
    "start_time": "2023-03-13T13:39:57.334Z"
   },
   {
    "duration": 7,
    "start_time": "2023-03-13T13:39:57.351Z"
   },
   {
    "duration": 10,
    "start_time": "2023-03-13T13:39:57.360Z"
   },
   {
    "duration": 21,
    "start_time": "2023-03-13T13:39:57.371Z"
   },
   {
    "duration": 22,
    "start_time": "2023-03-13T13:39:57.394Z"
   },
   {
    "duration": 29,
    "start_time": "2023-03-13T13:39:57.417Z"
   },
   {
    "duration": 5,
    "start_time": "2023-03-13T13:39:57.448Z"
   },
   {
    "duration": 61,
    "start_time": "2023-03-13T13:39:57.455Z"
   },
   {
    "duration": 8,
    "start_time": "2023-03-13T13:39:57.518Z"
   },
   {
    "duration": 113,
    "start_time": "2023-03-13T13:39:57.529Z"
   },
   {
    "duration": 13,
    "start_time": "2023-03-13T13:39:57.644Z"
   },
   {
    "duration": 18,
    "start_time": "2023-03-13T13:39:57.659Z"
   },
   {
    "duration": 11,
    "start_time": "2023-03-13T13:39:57.679Z"
   },
   {
    "duration": 11,
    "start_time": "2023-03-13T13:39:57.692Z"
   },
   {
    "duration": 20,
    "start_time": "2023-03-13T13:39:57.739Z"
   },
   {
    "duration": 10,
    "start_time": "2023-03-13T13:39:57.761Z"
   },
   {
    "duration": 22,
    "start_time": "2023-03-13T13:39:57.773Z"
   },
   {
    "duration": 55,
    "start_time": "2023-03-13T13:39:57.797Z"
   },
   {
    "duration": 8,
    "start_time": "2023-03-13T13:39:57.854Z"
   },
   {
    "duration": 17,
    "start_time": "2023-03-13T13:39:57.864Z"
   },
   {
    "duration": 12,
    "start_time": "2023-03-13T13:39:57.883Z"
   },
   {
    "duration": 16,
    "start_time": "2023-03-13T13:39:57.897Z"
   },
   {
    "duration": 32,
    "start_time": "2023-03-13T13:39:57.915Z"
   },
   {
    "duration": 16,
    "start_time": "2023-03-13T13:39:57.949Z"
   },
   {
    "duration": 8,
    "start_time": "2023-03-13T13:39:57.967Z"
   },
   {
    "duration": 10,
    "start_time": "2023-03-13T13:39:57.977Z"
   },
   {
    "duration": 8,
    "start_time": "2023-03-13T13:39:57.989Z"
   },
   {
    "duration": 46,
    "start_time": "2023-03-13T13:39:57.999Z"
   },
   {
    "duration": 3,
    "start_time": "2023-03-13T13:39:58.047Z"
   },
   {
    "duration": 106,
    "start_time": "2023-03-13T13:39:58.052Z"
   },
   {
    "duration": 4,
    "start_time": "2023-03-13T13:39:58.161Z"
   },
   {
    "duration": 10,
    "start_time": "2023-03-13T13:39:58.167Z"
   },
   {
    "duration": 6,
    "start_time": "2023-03-13T13:39:58.179Z"
   },
   {
    "duration": 6,
    "start_time": "2023-03-13T13:39:58.186Z"
   },
   {
    "duration": 356,
    "start_time": "2023-03-13T13:39:58.194Z"
   },
   {
    "duration": 3,
    "start_time": "2023-03-13T13:39:58.552Z"
   },
   {
    "duration": 31,
    "start_time": "2023-03-13T13:39:58.559Z"
   },
   {
    "duration": 208,
    "start_time": "2023-03-13T13:39:58.592Z"
   },
   {
    "duration": 9,
    "start_time": "2023-03-13T13:39:58.802Z"
   },
   {
    "duration": 219,
    "start_time": "2023-03-13T13:39:58.812Z"
   },
   {
    "duration": 14,
    "start_time": "2023-03-13T13:39:59.033Z"
   },
   {
    "duration": 324,
    "start_time": "2023-03-13T13:39:59.049Z"
   },
   {
    "duration": 10,
    "start_time": "2023-03-13T13:39:59.375Z"
   },
   {
    "duration": 227,
    "start_time": "2023-03-13T13:39:59.386Z"
   },
   {
    "duration": 9,
    "start_time": "2023-03-13T13:39:59.615Z"
   },
   {
    "duration": 216,
    "start_time": "2023-03-13T13:39:59.625Z"
   },
   {
    "duration": 8,
    "start_time": "2023-03-13T13:39:59.843Z"
   },
   {
    "duration": 191,
    "start_time": "2023-03-13T13:39:59.852Z"
   },
   {
    "duration": 10,
    "start_time": "2023-03-13T13:40:00.045Z"
   },
   {
    "duration": 189,
    "start_time": "2023-03-13T13:40:00.057Z"
   },
   {
    "duration": 9,
    "start_time": "2023-03-13T13:40:00.248Z"
   },
   {
    "duration": 189,
    "start_time": "2023-03-13T13:40:00.258Z"
   },
   {
    "duration": 9,
    "start_time": "2023-03-13T13:40:00.449Z"
   },
   {
    "duration": 202,
    "start_time": "2023-03-13T13:40:00.459Z"
   },
   {
    "duration": 16,
    "start_time": "2023-03-13T13:40:00.662Z"
   },
   {
    "duration": 195,
    "start_time": "2023-03-13T13:40:00.679Z"
   },
   {
    "duration": 8,
    "start_time": "2023-03-13T13:40:00.876Z"
   },
   {
    "duration": 212,
    "start_time": "2023-03-13T13:40:00.886Z"
   },
   {
    "duration": 10,
    "start_time": "2023-03-13T13:40:01.100Z"
   },
   {
    "duration": 191,
    "start_time": "2023-03-13T13:40:01.111Z"
   },
   {
    "duration": 10,
    "start_time": "2023-03-13T13:40:01.303Z"
   },
   {
    "duration": 288,
    "start_time": "2023-03-13T13:40:01.314Z"
   },
   {
    "duration": 8,
    "start_time": "2023-03-13T13:40:01.604Z"
   },
   {
    "duration": 205,
    "start_time": "2023-03-13T13:40:01.613Z"
   },
   {
    "duration": 8,
    "start_time": "2023-03-13T13:40:01.820Z"
   },
   {
    "duration": 1336,
    "start_time": "2023-03-13T14:10:01.006Z"
   },
   {
    "duration": 2145,
    "start_time": "2023-03-13T14:10:02.707Z"
   },
   {
    "duration": 1144,
    "start_time": "2023-03-13T14:10:20.896Z"
   },
   {
    "duration": 14,
    "start_time": "2023-03-13T14:10:44.874Z"
   },
   {
    "duration": 1116,
    "start_time": "2023-03-13T14:13:09.466Z"
   },
   {
    "duration": 406,
    "start_time": "2023-03-13T14:13:56.729Z"
   },
   {
    "duration": 324,
    "start_time": "2023-03-13T14:15:08.244Z"
   },
   {
    "duration": 394,
    "start_time": "2023-03-13T14:15:19.613Z"
   },
   {
    "duration": 12,
    "start_time": "2023-03-13T14:15:34.272Z"
   },
   {
    "duration": 629,
    "start_time": "2023-03-13T14:16:15.324Z"
   },
   {
    "duration": 1096,
    "start_time": "2023-03-13T14:16:27.679Z"
   },
   {
    "duration": 459,
    "start_time": "2023-03-13T14:21:40.801Z"
   },
   {
    "duration": 474,
    "start_time": "2023-03-13T14:21:57.470Z"
   },
   {
    "duration": 160,
    "start_time": "2023-03-13T14:23:04.705Z"
   },
   {
    "duration": 15,
    "start_time": "2023-03-13T14:23:40.951Z"
   },
   {
    "duration": 4,
    "start_time": "2023-03-13T14:27:36.235Z"
   },
   {
    "duration": 170,
    "start_time": "2023-03-13T14:28:02.697Z"
   },
   {
    "duration": 4,
    "start_time": "2023-03-13T14:28:09.059Z"
   },
   {
    "duration": 18,
    "start_time": "2023-03-13T14:32:40.015Z"
   },
   {
    "duration": 18,
    "start_time": "2023-03-13T14:33:02.129Z"
   },
   {
    "duration": 351,
    "start_time": "2023-03-13T14:34:33.196Z"
   },
   {
    "duration": 100,
    "start_time": "2023-03-13T14:53:13.134Z"
   },
   {
    "duration": 15,
    "start_time": "2023-03-13T14:53:13.236Z"
   },
   {
    "duration": 1802,
    "start_time": "2023-03-13T14:53:13.253Z"
   },
   {
    "duration": 3,
    "start_time": "2023-03-13T14:53:15.057Z"
   },
   {
    "duration": 29,
    "start_time": "2023-03-13T14:53:15.062Z"
   },
   {
    "duration": 17,
    "start_time": "2023-03-13T14:53:15.093Z"
   },
   {
    "duration": 25,
    "start_time": "2023-03-13T14:53:15.111Z"
   },
   {
    "duration": 25,
    "start_time": "2023-03-13T14:53:15.138Z"
   },
   {
    "duration": 27,
    "start_time": "2023-03-13T14:53:15.164Z"
   },
   {
    "duration": 34,
    "start_time": "2023-03-13T14:53:15.192Z"
   },
   {
    "duration": 4,
    "start_time": "2023-03-13T14:53:15.228Z"
   },
   {
    "duration": 75,
    "start_time": "2023-03-13T14:53:15.234Z"
   },
   {
    "duration": 6,
    "start_time": "2023-03-13T14:53:15.310Z"
   },
   {
    "duration": 81,
    "start_time": "2023-03-13T14:53:15.319Z"
   },
   {
    "duration": 9,
    "start_time": "2023-03-13T14:53:15.402Z"
   },
   {
    "duration": 27,
    "start_time": "2023-03-13T14:53:15.413Z"
   },
   {
    "duration": 10,
    "start_time": "2023-03-13T14:53:15.442Z"
   },
   {
    "duration": 8,
    "start_time": "2023-03-13T14:53:15.453Z"
   },
   {
    "duration": 16,
    "start_time": "2023-03-13T14:53:15.462Z"
   },
   {
    "duration": 8,
    "start_time": "2023-03-13T14:53:15.479Z"
   },
   {
    "duration": 18,
    "start_time": "2023-03-13T14:53:15.489Z"
   },
   {
    "duration": 22,
    "start_time": "2023-03-13T14:53:15.540Z"
   },
   {
    "duration": 7,
    "start_time": "2023-03-13T14:53:15.564Z"
   },
   {
    "duration": 13,
    "start_time": "2023-03-13T14:53:15.572Z"
   },
   {
    "duration": 10,
    "start_time": "2023-03-13T14:53:15.586Z"
   },
   {
    "duration": 15,
    "start_time": "2023-03-13T14:53:15.597Z"
   },
   {
    "duration": 33,
    "start_time": "2023-03-13T14:53:15.613Z"
   },
   {
    "duration": 33,
    "start_time": "2023-03-13T14:53:15.648Z"
   },
   {
    "duration": 29,
    "start_time": "2023-03-13T14:53:15.683Z"
   },
   {
    "duration": 9,
    "start_time": "2023-03-13T14:53:15.714Z"
   },
   {
    "duration": 11,
    "start_time": "2023-03-13T14:53:15.724Z"
   },
   {
    "duration": 20,
    "start_time": "2023-03-13T14:53:15.736Z"
   },
   {
    "duration": 2,
    "start_time": "2023-03-13T14:53:15.758Z"
   },
   {
    "duration": 85,
    "start_time": "2023-03-13T14:53:15.762Z"
   },
   {
    "duration": 4,
    "start_time": "2023-03-13T14:53:15.849Z"
   },
   {
    "duration": 9,
    "start_time": "2023-03-13T14:53:15.854Z"
   },
   {
    "duration": 6,
    "start_time": "2023-03-13T14:53:15.865Z"
   },
   {
    "duration": 5,
    "start_time": "2023-03-13T14:53:15.872Z"
   },
   {
    "duration": 407,
    "start_time": "2023-03-13T14:53:15.879Z"
   },
   {
    "duration": 4,
    "start_time": "2023-03-13T14:53:16.288Z"
   },
   {
    "duration": 30,
    "start_time": "2023-03-13T14:53:16.296Z"
   },
   {
    "duration": 192,
    "start_time": "2023-03-13T14:53:16.327Z"
   },
   {
    "duration": 19,
    "start_time": "2023-03-13T14:53:16.521Z"
   },
   {
    "duration": 198,
    "start_time": "2023-03-13T14:53:16.542Z"
   },
   {
    "duration": 9,
    "start_time": "2023-03-13T14:53:16.742Z"
   },
   {
    "duration": 193,
    "start_time": "2023-03-13T14:53:16.752Z"
   },
   {
    "duration": 10,
    "start_time": "2023-03-13T14:53:16.947Z"
   },
   {
    "duration": 196,
    "start_time": "2023-03-13T14:53:16.958Z"
   },
   {
    "duration": 9,
    "start_time": "2023-03-13T14:53:17.156Z"
   },
   {
    "duration": 214,
    "start_time": "2023-03-13T14:53:17.167Z"
   },
   {
    "duration": 9,
    "start_time": "2023-03-13T14:53:17.383Z"
   },
   {
    "duration": 185,
    "start_time": "2023-03-13T14:53:17.393Z"
   },
   {
    "duration": 10,
    "start_time": "2023-03-13T14:53:17.579Z"
   },
   {
    "duration": 260,
    "start_time": "2023-03-13T14:53:17.590Z"
   },
   {
    "duration": 8,
    "start_time": "2023-03-13T14:53:17.852Z"
   },
   {
    "duration": 182,
    "start_time": "2023-03-13T14:53:17.862Z"
   },
   {
    "duration": 9,
    "start_time": "2023-03-13T14:53:18.046Z"
   },
   {
    "duration": 195,
    "start_time": "2023-03-13T14:53:18.056Z"
   },
   {
    "duration": 16,
    "start_time": "2023-03-13T14:53:18.252Z"
   },
   {
    "duration": 191,
    "start_time": "2023-03-13T14:53:18.270Z"
   },
   {
    "duration": 9,
    "start_time": "2023-03-13T14:53:18.463Z"
   },
   {
    "duration": 201,
    "start_time": "2023-03-13T14:53:18.474Z"
   },
   {
    "duration": 10,
    "start_time": "2023-03-13T14:53:18.677Z"
   },
   {
    "duration": 189,
    "start_time": "2023-03-13T14:53:18.689Z"
   },
   {
    "duration": 10,
    "start_time": "2023-03-13T14:53:18.880Z"
   },
   {
    "duration": 201,
    "start_time": "2023-03-13T14:53:18.892Z"
   },
   {
    "duration": 9,
    "start_time": "2023-03-13T14:53:19.094Z"
   },
   {
    "duration": 190,
    "start_time": "2023-03-13T14:53:19.104Z"
   },
   {
    "duration": 8,
    "start_time": "2023-03-13T14:53:19.295Z"
   },
   {
    "duration": 466,
    "start_time": "2023-03-13T14:53:19.305Z"
   },
   {
    "duration": 9,
    "start_time": "2023-03-13T14:53:19.773Z"
   },
   {
    "duration": 1123,
    "start_time": "2023-03-13T14:53:19.784Z"
   },
   {
    "duration": 172,
    "start_time": "2023-03-13T14:53:20.909Z"
   },
   {
    "duration": 4,
    "start_time": "2023-03-13T14:53:21.083Z"
   },
   {
    "duration": 271,
    "start_time": "2023-03-13T14:53:21.088Z"
   },
   {
    "duration": 1448,
    "start_time": "2023-03-13T15:02:14.145Z"
   },
   {
    "duration": 15,
    "start_time": "2023-03-13T15:02:15.595Z"
   },
   {
    "duration": 4793,
    "start_time": "2023-03-13T15:02:15.612Z"
   },
   {
    "duration": 3,
    "start_time": "2023-03-13T15:02:20.407Z"
   },
   {
    "duration": 64,
    "start_time": "2023-03-13T15:02:20.412Z"
   },
   {
    "duration": 10,
    "start_time": "2023-03-13T15:02:20.478Z"
   },
   {
    "duration": 22,
    "start_time": "2023-03-13T15:02:20.491Z"
   },
   {
    "duration": 25,
    "start_time": "2023-03-13T15:02:20.570Z"
   },
   {
    "duration": 81,
    "start_time": "2023-03-13T15:02:20.596Z"
   },
   {
    "duration": 28,
    "start_time": "2023-03-13T15:02:20.679Z"
   },
   {
    "duration": 7,
    "start_time": "2023-03-13T15:02:20.708Z"
   },
   {
    "duration": 66,
    "start_time": "2023-03-13T15:02:20.716Z"
   },
   {
    "duration": 102,
    "start_time": "2023-03-13T15:02:20.784Z"
   },
   {
    "duration": 202,
    "start_time": "2023-03-13T15:02:20.889Z"
   },
   {
    "duration": 80,
    "start_time": "2023-03-13T15:02:21.093Z"
   },
   {
    "duration": 28,
    "start_time": "2023-03-13T15:02:21.179Z"
   },
   {
    "duration": 71,
    "start_time": "2023-03-13T15:02:21.209Z"
   },
   {
    "duration": 25,
    "start_time": "2023-03-13T15:02:21.282Z"
   },
   {
    "duration": 67,
    "start_time": "2023-03-13T15:02:21.309Z"
   },
   {
    "duration": 8,
    "start_time": "2023-03-13T15:02:21.378Z"
   },
   {
    "duration": 81,
    "start_time": "2023-03-13T15:02:21.388Z"
   },
   {
    "duration": 31,
    "start_time": "2023-03-13T15:02:21.471Z"
   },
   {
    "duration": 7,
    "start_time": "2023-03-13T15:02:21.504Z"
   },
   {
    "duration": 23,
    "start_time": "2023-03-13T15:02:21.568Z"
   },
   {
    "duration": 11,
    "start_time": "2023-03-13T15:02:21.592Z"
   },
   {
    "duration": 69,
    "start_time": "2023-03-13T15:02:21.604Z"
   },
   {
    "duration": 11,
    "start_time": "2023-03-13T15:02:21.675Z"
   },
   {
    "duration": 15,
    "start_time": "2023-03-13T15:02:21.688Z"
   },
   {
    "duration": 74,
    "start_time": "2023-03-13T15:02:21.705Z"
   },
   {
    "duration": 17,
    "start_time": "2023-03-13T15:02:21.782Z"
   },
   {
    "duration": 68,
    "start_time": "2023-03-13T15:02:21.800Z"
   },
   {
    "duration": 20,
    "start_time": "2023-03-13T15:02:21.870Z"
   },
   {
    "duration": 3,
    "start_time": "2023-03-13T15:02:21.892Z"
   },
   {
    "duration": 274,
    "start_time": "2023-03-13T15:02:21.896Z"
   },
   {
    "duration": 6,
    "start_time": "2023-03-13T15:02:22.172Z"
   },
   {
    "duration": 27,
    "start_time": "2023-03-13T15:02:22.180Z"
   },
   {
    "duration": 9,
    "start_time": "2023-03-13T15:02:22.209Z"
   },
   {
    "duration": 9,
    "start_time": "2023-03-13T15:02:22.270Z"
   },
   {
    "duration": 815,
    "start_time": "2023-03-13T15:02:22.281Z"
   },
   {
    "duration": 4,
    "start_time": "2023-03-13T15:02:23.098Z"
   },
   {
    "duration": 101,
    "start_time": "2023-03-13T15:02:23.106Z"
   },
   {
    "duration": 562,
    "start_time": "2023-03-13T15:02:23.209Z"
   },
   {
    "duration": 14,
    "start_time": "2023-03-13T15:02:23.773Z"
   },
   {
    "duration": 502,
    "start_time": "2023-03-13T15:02:23.789Z"
   },
   {
    "duration": 10,
    "start_time": "2023-03-13T15:02:24.293Z"
   },
   {
    "duration": 696,
    "start_time": "2023-03-13T15:02:24.305Z"
   },
   {
    "duration": 11,
    "start_time": "2023-03-13T15:02:25.004Z"
   },
   {
    "duration": 433,
    "start_time": "2023-03-13T15:02:25.069Z"
   },
   {
    "duration": 8,
    "start_time": "2023-03-13T15:02:25.504Z"
   },
   {
    "duration": 414,
    "start_time": "2023-03-13T15:02:25.569Z"
   },
   {
    "duration": 10,
    "start_time": "2023-03-13T15:02:25.986Z"
   },
   {
    "duration": 410,
    "start_time": "2023-03-13T15:02:25.998Z"
   },
   {
    "duration": 63,
    "start_time": "2023-03-13T15:02:26.410Z"
   },
   {
    "duration": 425,
    "start_time": "2023-03-13T15:02:26.475Z"
   },
   {
    "duration": 10,
    "start_time": "2023-03-13T15:02:26.902Z"
   },
   {
    "duration": 403,
    "start_time": "2023-03-13T15:02:26.970Z"
   },
   {
    "duration": 13,
    "start_time": "2023-03-13T15:02:27.375Z"
   },
   {
    "duration": 411,
    "start_time": "2023-03-13T15:02:27.390Z"
   },
   {
    "duration": 72,
    "start_time": "2023-03-13T15:02:27.802Z"
   },
   {
    "duration": 398,
    "start_time": "2023-03-13T15:02:27.876Z"
   },
   {
    "duration": 10,
    "start_time": "2023-03-13T15:02:28.276Z"
   },
   {
    "duration": 399,
    "start_time": "2023-03-13T15:02:28.288Z"
   },
   {
    "duration": 10,
    "start_time": "2023-03-13T15:02:28.689Z"
   },
   {
    "duration": 390,
    "start_time": "2023-03-13T15:02:28.700Z"
   },
   {
    "duration": 9,
    "start_time": "2023-03-13T15:02:29.092Z"
   },
   {
    "duration": 603,
    "start_time": "2023-03-13T15:02:29.102Z"
   },
   {
    "duration": 66,
    "start_time": "2023-03-13T15:02:29.707Z"
   },
   {
    "duration": 396,
    "start_time": "2023-03-13T15:02:29.775Z"
   },
   {
    "duration": 9,
    "start_time": "2023-03-13T15:02:30.173Z"
   },
   {
    "duration": 1128,
    "start_time": "2023-03-13T15:02:30.183Z"
   },
   {
    "duration": 13,
    "start_time": "2023-03-13T15:02:31.369Z"
   },
   {
    "duration": 1528,
    "start_time": "2023-03-13T15:02:31.383Z"
   },
   {
    "duration": 177,
    "start_time": "2023-03-13T15:02:32.912Z"
   },
   {
    "duration": 5,
    "start_time": "2023-03-13T15:02:33.090Z"
   },
   {
    "duration": 375,
    "start_time": "2023-03-13T15:02:33.096Z"
   },
   {
    "duration": 15,
    "start_time": "2023-03-13T15:03:38.844Z"
   },
   {
    "duration": 7,
    "start_time": "2023-03-13T15:04:05.457Z"
   },
   {
    "duration": 125,
    "start_time": "2023-03-13T15:04:23.949Z"
   },
   {
    "duration": 12,
    "start_time": "2023-03-13T15:04:54.066Z"
   },
   {
    "duration": 786,
    "start_time": "2023-03-14T18:58:24.693Z"
   },
   {
    "duration": 0,
    "start_time": "2023-03-14T18:58:25.483Z"
   },
   {
    "duration": 0,
    "start_time": "2023-03-14T18:58:25.484Z"
   },
   {
    "duration": 0,
    "start_time": "2023-03-14T18:58:25.486Z"
   },
   {
    "duration": 0,
    "start_time": "2023-03-14T18:58:25.487Z"
   },
   {
    "duration": 0,
    "start_time": "2023-03-14T18:58:25.488Z"
   },
   {
    "duration": 0,
    "start_time": "2023-03-14T18:58:25.489Z"
   },
   {
    "duration": 0,
    "start_time": "2023-03-14T18:58:25.490Z"
   },
   {
    "duration": 0,
    "start_time": "2023-03-14T18:58:25.491Z"
   },
   {
    "duration": 0,
    "start_time": "2023-03-14T18:58:25.492Z"
   },
   {
    "duration": 0,
    "start_time": "2023-03-14T18:58:25.493Z"
   },
   {
    "duration": 0,
    "start_time": "2023-03-14T18:58:25.494Z"
   },
   {
    "duration": 0,
    "start_time": "2023-03-14T18:58:25.495Z"
   },
   {
    "duration": 0,
    "start_time": "2023-03-14T18:58:25.497Z"
   },
   {
    "duration": 0,
    "start_time": "2023-03-14T18:58:25.497Z"
   },
   {
    "duration": 0,
    "start_time": "2023-03-14T18:58:25.499Z"
   },
   {
    "duration": 0,
    "start_time": "2023-03-14T18:58:25.500Z"
   },
   {
    "duration": 0,
    "start_time": "2023-03-14T18:58:25.501Z"
   },
   {
    "duration": 0,
    "start_time": "2023-03-14T18:58:25.501Z"
   },
   {
    "duration": 0,
    "start_time": "2023-03-14T18:58:25.502Z"
   },
   {
    "duration": 0,
    "start_time": "2023-03-14T18:58:25.503Z"
   },
   {
    "duration": 0,
    "start_time": "2023-03-14T18:58:25.505Z"
   },
   {
    "duration": 0,
    "start_time": "2023-03-14T18:58:25.506Z"
   },
   {
    "duration": 0,
    "start_time": "2023-03-14T18:58:25.506Z"
   },
   {
    "duration": 0,
    "start_time": "2023-03-14T18:58:25.508Z"
   },
   {
    "duration": 0,
    "start_time": "2023-03-14T18:58:25.509Z"
   },
   {
    "duration": 0,
    "start_time": "2023-03-14T18:58:25.510Z"
   },
   {
    "duration": 0,
    "start_time": "2023-03-14T18:58:25.511Z"
   },
   {
    "duration": 0,
    "start_time": "2023-03-14T18:58:25.512Z"
   },
   {
    "duration": 0,
    "start_time": "2023-03-14T18:58:25.513Z"
   },
   {
    "duration": 0,
    "start_time": "2023-03-14T18:58:25.514Z"
   },
   {
    "duration": 0,
    "start_time": "2023-03-14T18:58:25.515Z"
   },
   {
    "duration": 0,
    "start_time": "2023-03-14T18:58:25.516Z"
   },
   {
    "duration": 0,
    "start_time": "2023-03-14T18:58:25.517Z"
   },
   {
    "duration": 0,
    "start_time": "2023-03-14T18:58:25.518Z"
   },
   {
    "duration": 0,
    "start_time": "2023-03-14T18:58:25.519Z"
   },
   {
    "duration": 0,
    "start_time": "2023-03-14T18:58:25.573Z"
   },
   {
    "duration": 0,
    "start_time": "2023-03-14T18:58:25.574Z"
   },
   {
    "duration": 0,
    "start_time": "2023-03-14T18:58:25.575Z"
   },
   {
    "duration": 0,
    "start_time": "2023-03-14T18:58:25.576Z"
   },
   {
    "duration": 0,
    "start_time": "2023-03-14T18:58:25.577Z"
   },
   {
    "duration": 1,
    "start_time": "2023-03-14T18:58:25.578Z"
   },
   {
    "duration": 0,
    "start_time": "2023-03-14T18:58:25.579Z"
   },
   {
    "duration": 0,
    "start_time": "2023-03-14T18:58:25.580Z"
   },
   {
    "duration": 0,
    "start_time": "2023-03-14T18:58:25.581Z"
   },
   {
    "duration": 0,
    "start_time": "2023-03-14T18:58:25.582Z"
   },
   {
    "duration": 0,
    "start_time": "2023-03-14T18:58:25.583Z"
   },
   {
    "duration": 0,
    "start_time": "2023-03-14T18:58:25.584Z"
   },
   {
    "duration": 0,
    "start_time": "2023-03-14T18:58:25.585Z"
   },
   {
    "duration": 0,
    "start_time": "2023-03-14T18:58:25.586Z"
   },
   {
    "duration": 0,
    "start_time": "2023-03-14T18:58:25.587Z"
   },
   {
    "duration": 0,
    "start_time": "2023-03-14T18:58:25.588Z"
   },
   {
    "duration": 0,
    "start_time": "2023-03-14T18:58:25.589Z"
   },
   {
    "duration": 0,
    "start_time": "2023-03-14T18:58:25.590Z"
   },
   {
    "duration": 0,
    "start_time": "2023-03-14T18:58:25.591Z"
   },
   {
    "duration": 0,
    "start_time": "2023-03-14T18:58:25.593Z"
   },
   {
    "duration": 0,
    "start_time": "2023-03-14T18:58:25.594Z"
   },
   {
    "duration": 0,
    "start_time": "2023-03-14T18:58:25.595Z"
   },
   {
    "duration": 0,
    "start_time": "2023-03-14T18:58:25.596Z"
   },
   {
    "duration": 0,
    "start_time": "2023-03-14T18:58:25.596Z"
   },
   {
    "duration": 0,
    "start_time": "2023-03-14T18:58:25.597Z"
   },
   {
    "duration": 0,
    "start_time": "2023-03-14T18:58:25.598Z"
   },
   {
    "duration": 0,
    "start_time": "2023-03-14T18:58:25.599Z"
   },
   {
    "duration": 0,
    "start_time": "2023-03-14T18:58:25.600Z"
   },
   {
    "duration": 0,
    "start_time": "2023-03-14T18:58:25.602Z"
   },
   {
    "duration": 0,
    "start_time": "2023-03-14T18:58:25.602Z"
   },
   {
    "duration": 0,
    "start_time": "2023-03-14T18:58:25.604Z"
   },
   {
    "duration": 0,
    "start_time": "2023-03-14T18:58:25.605Z"
   },
   {
    "duration": 0,
    "start_time": "2023-03-14T18:58:25.605Z"
   },
   {
    "duration": 0,
    "start_time": "2023-03-14T18:58:25.606Z"
   },
   {
    "duration": 0,
    "start_time": "2023-03-14T18:58:25.673Z"
   },
   {
    "duration": 0,
    "start_time": "2023-03-14T18:58:25.674Z"
   },
   {
    "duration": 0,
    "start_time": "2023-03-14T18:58:25.675Z"
   },
   {
    "duration": 1,
    "start_time": "2023-03-14T18:58:25.676Z"
   },
   {
    "duration": 0,
    "start_time": "2023-03-14T18:58:25.678Z"
   },
   {
    "duration": 0,
    "start_time": "2023-03-14T18:58:25.680Z"
   },
   {
    "duration": 0,
    "start_time": "2023-03-14T18:58:25.681Z"
   },
   {
    "duration": 0,
    "start_time": "2023-03-14T18:58:25.682Z"
   },
   {
    "duration": 0,
    "start_time": "2023-03-14T18:58:25.683Z"
   },
   {
    "duration": 822,
    "start_time": "2023-03-14T18:59:01.492Z"
   },
   {
    "duration": 16,
    "start_time": "2023-03-14T18:59:02.316Z"
   },
   {
    "duration": 2255,
    "start_time": "2023-03-14T18:59:02.334Z"
   },
   {
    "duration": 4,
    "start_time": "2023-03-14T18:59:04.591Z"
   },
   {
    "duration": 18,
    "start_time": "2023-03-14T18:59:04.598Z"
   },
   {
    "duration": 8,
    "start_time": "2023-03-14T18:59:04.617Z"
   },
   {
    "duration": 12,
    "start_time": "2023-03-14T18:59:04.628Z"
   },
   {
    "duration": 31,
    "start_time": "2023-03-14T18:59:04.642Z"
   },
   {
    "duration": 20,
    "start_time": "2023-03-14T18:59:04.676Z"
   },
   {
    "duration": 40,
    "start_time": "2023-03-14T18:59:04.698Z"
   },
   {
    "duration": 4,
    "start_time": "2023-03-14T18:59:04.740Z"
   },
   {
    "duration": 40,
    "start_time": "2023-03-14T18:59:04.746Z"
   },
   {
    "duration": 28,
    "start_time": "2023-03-14T18:59:04.788Z"
   },
   {
    "duration": 20,
    "start_time": "2023-03-14T18:59:04.822Z"
   },
   {
    "duration": 4,
    "start_time": "2023-03-14T18:59:04.844Z"
   },
   {
    "duration": 58,
    "start_time": "2023-03-14T18:59:04.874Z"
   },
   {
    "duration": 7,
    "start_time": "2023-03-14T18:59:04.934Z"
   },
   {
    "duration": 123,
    "start_time": "2023-03-14T18:59:04.943Z"
   },
   {
    "duration": 13,
    "start_time": "2023-03-14T18:59:05.073Z"
   },
   {
    "duration": 20,
    "start_time": "2023-03-14T18:59:05.088Z"
   },
   {
    "duration": 11,
    "start_time": "2023-03-14T18:59:05.110Z"
   },
   {
    "duration": 10,
    "start_time": "2023-03-14T18:59:05.123Z"
   },
   {
    "duration": 53,
    "start_time": "2023-03-14T18:59:05.135Z"
   },
   {
    "duration": 11,
    "start_time": "2023-03-14T18:59:05.190Z"
   },
   {
    "duration": 24,
    "start_time": "2023-03-14T18:59:05.203Z"
   },
   {
    "duration": 54,
    "start_time": "2023-03-14T18:59:05.229Z"
   },
   {
    "duration": 8,
    "start_time": "2023-03-14T18:59:05.285Z"
   },
   {
    "duration": 24,
    "start_time": "2023-03-14T18:59:05.295Z"
   },
   {
    "duration": 13,
    "start_time": "2023-03-14T18:59:05.321Z"
   },
   {
    "duration": 17,
    "start_time": "2023-03-14T18:59:05.336Z"
   },
   {
    "duration": 28,
    "start_time": "2023-03-14T18:59:05.354Z"
   },
   {
    "duration": 23,
    "start_time": "2023-03-14T18:59:05.384Z"
   },
   {
    "duration": 8,
    "start_time": "2023-03-14T18:59:05.409Z"
   },
   {
    "duration": 14,
    "start_time": "2023-03-14T18:59:05.419Z"
   },
   {
    "duration": 8,
    "start_time": "2023-03-14T18:59:05.435Z"
   },
   {
    "duration": 11,
    "start_time": "2023-03-14T18:59:05.473Z"
   },
   {
    "duration": 4,
    "start_time": "2023-03-14T18:59:05.486Z"
   },
   {
    "duration": 128,
    "start_time": "2023-03-14T18:59:05.492Z"
   },
   {
    "duration": 4,
    "start_time": "2023-03-14T18:59:05.622Z"
   },
   {
    "duration": 13,
    "start_time": "2023-03-14T18:59:05.628Z"
   },
   {
    "duration": 9,
    "start_time": "2023-03-14T18:59:05.646Z"
   },
   {
    "duration": 21,
    "start_time": "2023-03-14T18:59:05.658Z"
   },
   {
    "duration": 358,
    "start_time": "2023-03-14T18:59:05.681Z"
   },
   {
    "duration": 4,
    "start_time": "2023-03-14T18:59:06.041Z"
   },
   {
    "duration": 39,
    "start_time": "2023-03-14T18:59:06.047Z"
   },
   {
    "duration": 219,
    "start_time": "2023-03-14T18:59:06.088Z"
   },
   {
    "duration": 9,
    "start_time": "2023-03-14T18:59:06.309Z"
   },
   {
    "duration": 242,
    "start_time": "2023-03-14T18:59:06.321Z"
   },
   {
    "duration": 12,
    "start_time": "2023-03-14T18:59:06.565Z"
   },
   {
    "duration": 333,
    "start_time": "2023-03-14T18:59:06.579Z"
   },
   {
    "duration": 10,
    "start_time": "2023-03-14T18:59:06.914Z"
   },
   {
    "duration": 238,
    "start_time": "2023-03-14T18:59:06.926Z"
   },
   {
    "duration": 16,
    "start_time": "2023-03-14T18:59:07.165Z"
   },
   {
    "duration": 258,
    "start_time": "2023-03-14T18:59:07.183Z"
   },
   {
    "duration": 10,
    "start_time": "2023-03-14T18:59:07.443Z"
   },
   {
    "duration": 250,
    "start_time": "2023-03-14T18:59:07.455Z"
   },
   {
    "duration": 11,
    "start_time": "2023-03-14T18:59:07.707Z"
   },
   {
    "duration": 246,
    "start_time": "2023-03-14T18:59:07.720Z"
   },
   {
    "duration": 10,
    "start_time": "2023-03-14T18:59:07.974Z"
   },
   {
    "duration": 223,
    "start_time": "2023-03-14T18:59:07.986Z"
   },
   {
    "duration": 10,
    "start_time": "2023-03-14T18:59:08.210Z"
   },
   {
    "duration": 223,
    "start_time": "2023-03-14T18:59:08.222Z"
   },
   {
    "duration": 30,
    "start_time": "2023-03-14T18:59:08.447Z"
   },
   {
    "duration": 250,
    "start_time": "2023-03-14T18:59:08.479Z"
   },
   {
    "duration": 11,
    "start_time": "2023-03-14T18:59:08.732Z"
   },
   {
    "duration": 261,
    "start_time": "2023-03-14T18:59:08.744Z"
   },
   {
    "duration": 11,
    "start_time": "2023-03-14T18:59:09.006Z"
   },
   {
    "duration": 235,
    "start_time": "2023-03-14T18:59:09.018Z"
   },
   {
    "duration": 18,
    "start_time": "2023-03-14T18:59:09.255Z"
   },
   {
    "duration": 336,
    "start_time": "2023-03-14T18:59:09.275Z"
   },
   {
    "duration": 9,
    "start_time": "2023-03-14T18:59:09.613Z"
   },
   {
    "duration": 217,
    "start_time": "2023-03-14T18:59:09.624Z"
   },
   {
    "duration": 10,
    "start_time": "2023-03-14T18:59:09.843Z"
   },
   {
    "duration": 579,
    "start_time": "2023-03-14T18:59:09.854Z"
   },
   {
    "duration": 9,
    "start_time": "2023-03-14T18:59:10.436Z"
   },
   {
    "duration": 1283,
    "start_time": "2023-03-14T18:59:10.447Z"
   },
   {
    "duration": 202,
    "start_time": "2023-03-14T18:59:11.732Z"
   },
   {
    "duration": 5,
    "start_time": "2023-03-14T18:59:11.936Z"
   },
   {
    "duration": 392,
    "start_time": "2023-03-14T18:59:11.944Z"
   },
   {
    "duration": 771,
    "start_time": "2024-05-28T08:08:09.230Z"
   },
   {
    "duration": 341,
    "start_time": "2024-05-28T08:08:11.772Z"
   }
  ],
  "kernelspec": {
   "display_name": "Python 3 (ipykernel)",
   "language": "python",
   "name": "python3"
  },
  "language_info": {
   "codemirror_mode": {
    "name": "ipython",
    "version": 3
   },
   "file_extension": ".py",
   "mimetype": "text/x-python",
   "name": "python",
   "nbconvert_exporter": "python",
   "pygments_lexer": "ipython3",
   "version": "3.9.13"
  },
  "toc": {
   "base_numbering": 1,
   "nav_menu": {},
   "number_sections": true,
   "sideBar": true,
   "skip_h1_title": true,
   "title_cell": "Table of Contents",
   "title_sidebar": "Contents",
   "toc_cell": false,
   "toc_position": {},
   "toc_section_display": true,
   "toc_window_display": false
  }
 },
 "nbformat": 4,
 "nbformat_minor": 2
}
